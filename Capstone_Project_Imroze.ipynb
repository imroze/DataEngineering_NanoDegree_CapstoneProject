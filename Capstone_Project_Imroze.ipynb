{
 "cells": [
  {
   "cell_type": "markdown",
   "metadata": {
    "editable": true
   },
   "source": [
    "# Data Engineering for Georgia's Employee Visa Immigrations Analytics\n",
    "### Data Engineering Capstone Project\n",
    "\n",
    "#### Project Summary\n",
    "This project is the Capstone project at the end of Udacity's Data Engineering Nanodegree. The project scope is mostly open-ended, with certain requirements to follow. It uses data from sources provided by Udacity as well as additional data. The project scope includes creating a Data Engineering pipeline for producing and updating a data warehouse, which will help the Govt of Georgia state with analytics and business intelligence related to employment visa based immigrations to the state. This project utilizes concepts and tools from the Nanodegree, including data modeling, data warehousing, ETL, data pipelines, PySpark, Pandas, PostgreSQL and Apache Airflow.   \n",
    "\n",
    "The project follows the follow steps:\n",
    "* Step 1: Scope the Project and Gather Data\n",
    "* Step 2: Explore and Assess the Data\n",
    "* Step 3: Define the Data Model\n",
    "* Step 4: Run ETL to Model the Data\n",
    "* Step 5: Complete Project Write Up"
   ]
  },
  {
   "cell_type": "code",
   "execution_count": 1,
   "metadata": {
    "editable": true
   },
   "outputs": [],
   "source": [
    "# Do all imports and installs here\n",
    "import pandas as pd\n",
    "import psycopg2\n",
    "from pyspark.sql import SparkSession\n",
    "from pyspark.sql.functions import udf, col, lit\n",
    "from pyspark.sql.types import StructType, StructField, DoubleType, StringType, IntegerType, DateType, TimestampType\n",
    "from sql_queries import *\n",
    "from create_tables import *\n",
    "from os.path import exists\n",
    "import time"
   ]
  },
  {
   "cell_type": "markdown",
   "metadata": {
    "editable": true
   },
   "source": [
    "### Step 1: Scope the Project and Gather Data\n",
    "\n",
    "#### Scope \n",
    "Explain what you plan to do in the project in more detail. What data do you use? What is your end solution look like? What tools did you use? etc>\n",
    "\n",
    "#### Describe and Gather Data \n",
    "Describe the data sets you're using. Where did it come from? What type of information is included? "
   ]
  },
  {
   "cell_type": "markdown",
   "metadata": {
    "editable": true
   },
   "source": [
    "#### Scope and Datasets:"
   ]
  },
  {
   "cell_type": "markdown",
   "metadata": {
    "editable": true
   },
   "source": [
    "This project is based on the Udacity Provided Project and data for Data Engineering Nanodegree Capstone project, which has semi open-ended requirements.\n",
    "\n",
    "Following scope was defined for the project:\n",
    "\n",
    "The Govt of State of Georgia is interested in performing analytics on the people immigrating to Georgia, USA for employment, on employee visa i.e. E1, E2 and E3. \n",
    "\n",
    "They want to aggregate analytics about employee immigrations on monthly and yearly basis for Georgia cities and airports, based on visa-type and demographics information like age group and gender. They are also interested in airline and flight information.  \n",
    "\n",
    "Following three datasets are used and combined in the project:\n",
    "\n",
    "1. Airport Code Table, a CSV file containing information about airports, their codes and corresponding cities. It comes from datahub.io.\n",
    "\n",
    "2. I94 Immigration Data, as SAS (sas7bdat) files containing information about immigrations to USA for months. It comes from US National Tourism and Trade Office. \n",
    "\n",
    "3. Airlines Data, as a JSON file. It comes from https://github.com/npow/airline-codes.\n",
    "\n",
    "The end solution will be a Data Wareshouse with tables that will be used for OLAP according to requirement and updated monthly using ETL on the raw data.\n",
    "\n",
    "The project will utilize Nanodegree lessons and topics related to Data Modeling, Data Lakes with Spark and Data Pipelines with Airflow.\n",
    "\n",
    "The tools and libraries used in this project include Python, PostgreSQL, Psycopg, Pandas, PySpark and Apache AirFlow. \n",
    "\n",
    "It is assumed that new SAS data for the month will be available for ingestion every month as SAS files and it has to be converted to CSV files for analysis and easy use with PySpark. The data engineering pipeline will do the ETL and load the data into database every month.\n",
    "\n",
    "This Jupyter notebook performs the ETL for the first month and also creates database and tables. After running that, the etl.py script can be run every month for doing data ingestion and ETL for next months. That is similar to this notebook but has small changes to utilize already processed data and keep track of time periods. dags/airflow_pipeline.py allows automating the process as a Airflow DAG and scheduling the code used in etl.py to run monthly and enable monitoring through Airflow. \n",
    "\n",
    "Dimensional Modeling is being done and a Star Schema was created. The tables are stored in a PostgreSQL relational database. \n",
    "\n",
    "test.ipynb Jupyter notebook can be used for testing and seeing the final results. It includes sample usage of the loaded data as data visualizations and aggregated statistics."
   ]
  },
  {
   "cell_type": "markdown",
   "metadata": {
    "editable": true
   },
   "source": [
    "### Step 2: Explore and Assess the Data\n",
    "#### Explore the Data \n",
    "Identify data quality issues, like missing values, duplicate data, etc.\n",
    "\n",
    "#### Cleaning Steps\n",
    "Document steps necessary to clean the data"
   ]
  },
  {
   "cell_type": "markdown",
   "metadata": {
    "editable": true
   },
   "source": [
    "#### Data Exploration"
   ]
  },
  {
   "cell_type": "code",
   "execution_count": 115,
   "metadata": {
    "editable": true
   },
   "outputs": [],
   "source": [
    "timerx = time.time()"
   ]
  },
  {
   "cell_type": "code",
   "execution_count": 3,
   "metadata": {
    "editable": true
   },
   "outputs": [],
   "source": [
    "cur_year = 2016\n",
    "cur_month = 1"
   ]
  },
  {
   "cell_type": "code",
   "execution_count": 4,
   "metadata": {
    "editable": true
   },
   "outputs": [],
   "source": [
    "# variables used for quality checks\n",
    "allnull_row_check = True\n",
    "empty_check = True\n",
    "date_check = True\n",
    "init_rows_fact_table = 0"
   ]
  },
  {
   "cell_type": "code",
   "execution_count": 5,
   "metadata": {
    "editable": true
   },
   "outputs": [
    {
     "name": "stdout",
     "output_type": "stream",
     "text": [
      "immigration sample df shape :  (1000, 29)\n",
      "airports df shape :  (55075, 12)\n",
      "airlines df shape :  (6065, 8)\n"
     ]
    }
   ],
   "source": [
    "# Read in the data here\n",
    "airports_df = pd.read_csv('airport-codes_csv.csv')\n",
    "immig_sample_df = pd.read_csv('immigration_data_sample.csv')\n",
    "airlines_df = pd.read_json('airlines.json')\n",
    "print('immigration sample df shape : ',immig_sample_df.shape)\n",
    "print('airports df shape : ' ,airports_df.shape)\n",
    "print('airlines df shape : ' ,airlines_df.shape)"
   ]
  },
  {
   "cell_type": "code",
   "execution_count": 6,
   "metadata": {
    "editable": true
   },
   "outputs": [
    {
     "name": "stdout",
     "output_type": "stream",
     "text": [
      "['Unnamed: 0', 'cicid', 'i94yr', 'i94mon', 'i94cit', 'i94res', 'i94port', 'arrdate', 'i94mode', 'i94addr', 'depdate', 'i94bir', 'i94visa', 'count', 'dtadfile', 'visapost', 'occup', 'entdepa', 'entdepd', 'entdepu', 'matflag', 'biryear', 'dtaddto', 'gender', 'insnum', 'airline', 'admnum', 'fltno', 'visatype']\n"
     ]
    }
   ],
   "source": [
    "print(list(immig_sample_df.columns))"
   ]
  },
  {
   "cell_type": "code",
   "execution_count": 7,
   "metadata": {
    "editable": true
   },
   "outputs": [
    {
     "data": {
      "text/html": [
       "<div>\n",
       "<style scoped>\n",
       "    .dataframe tbody tr th:only-of-type {\n",
       "        vertical-align: middle;\n",
       "    }\n",
       "\n",
       "    .dataframe tbody tr th {\n",
       "        vertical-align: top;\n",
       "    }\n",
       "\n",
       "    .dataframe thead th {\n",
       "        text-align: right;\n",
       "    }\n",
       "</style>\n",
       "<table border=\"1\" class=\"dataframe\">\n",
       "  <thead>\n",
       "    <tr style=\"text-align: right;\">\n",
       "      <th></th>\n",
       "      <th>Unnamed: 0</th>\n",
       "      <th>cicid</th>\n",
       "      <th>i94yr</th>\n",
       "      <th>i94mon</th>\n",
       "      <th>i94cit</th>\n",
       "      <th>i94res</th>\n",
       "      <th>i94port</th>\n",
       "      <th>arrdate</th>\n",
       "      <th>i94mode</th>\n",
       "      <th>i94addr</th>\n",
       "      <th>...</th>\n",
       "      <th>entdepu</th>\n",
       "      <th>matflag</th>\n",
       "      <th>biryear</th>\n",
       "      <th>dtaddto</th>\n",
       "      <th>gender</th>\n",
       "      <th>insnum</th>\n",
       "      <th>airline</th>\n",
       "      <th>admnum</th>\n",
       "      <th>fltno</th>\n",
       "      <th>visatype</th>\n",
       "    </tr>\n",
       "  </thead>\n",
       "  <tbody>\n",
       "    <tr>\n",
       "      <th>0</th>\n",
       "      <td>2027561</td>\n",
       "      <td>4084316.0</td>\n",
       "      <td>2016.0</td>\n",
       "      <td>4.0</td>\n",
       "      <td>209.0</td>\n",
       "      <td>209.0</td>\n",
       "      <td>HHW</td>\n",
       "      <td>20566.0</td>\n",
       "      <td>1.0</td>\n",
       "      <td>HI</td>\n",
       "      <td>...</td>\n",
       "      <td>NaN</td>\n",
       "      <td>M</td>\n",
       "      <td>1955.0</td>\n",
       "      <td>07202016</td>\n",
       "      <td>F</td>\n",
       "      <td>NaN</td>\n",
       "      <td>JL</td>\n",
       "      <td>5.658267e+10</td>\n",
       "      <td>00782</td>\n",
       "      <td>WT</td>\n",
       "    </tr>\n",
       "    <tr>\n",
       "      <th>1</th>\n",
       "      <td>2171295</td>\n",
       "      <td>4422636.0</td>\n",
       "      <td>2016.0</td>\n",
       "      <td>4.0</td>\n",
       "      <td>582.0</td>\n",
       "      <td>582.0</td>\n",
       "      <td>MCA</td>\n",
       "      <td>20567.0</td>\n",
       "      <td>1.0</td>\n",
       "      <td>TX</td>\n",
       "      <td>...</td>\n",
       "      <td>NaN</td>\n",
       "      <td>M</td>\n",
       "      <td>1990.0</td>\n",
       "      <td>10222016</td>\n",
       "      <td>M</td>\n",
       "      <td>NaN</td>\n",
       "      <td>*GA</td>\n",
       "      <td>9.436200e+10</td>\n",
       "      <td>XBLNG</td>\n",
       "      <td>B2</td>\n",
       "    </tr>\n",
       "    <tr>\n",
       "      <th>2</th>\n",
       "      <td>589494</td>\n",
       "      <td>1195600.0</td>\n",
       "      <td>2016.0</td>\n",
       "      <td>4.0</td>\n",
       "      <td>148.0</td>\n",
       "      <td>112.0</td>\n",
       "      <td>OGG</td>\n",
       "      <td>20551.0</td>\n",
       "      <td>1.0</td>\n",
       "      <td>FL</td>\n",
       "      <td>...</td>\n",
       "      <td>NaN</td>\n",
       "      <td>M</td>\n",
       "      <td>1940.0</td>\n",
       "      <td>07052016</td>\n",
       "      <td>M</td>\n",
       "      <td>NaN</td>\n",
       "      <td>LH</td>\n",
       "      <td>5.578047e+10</td>\n",
       "      <td>00464</td>\n",
       "      <td>WT</td>\n",
       "    </tr>\n",
       "    <tr>\n",
       "      <th>3</th>\n",
       "      <td>2631158</td>\n",
       "      <td>5291768.0</td>\n",
       "      <td>2016.0</td>\n",
       "      <td>4.0</td>\n",
       "      <td>297.0</td>\n",
       "      <td>297.0</td>\n",
       "      <td>LOS</td>\n",
       "      <td>20572.0</td>\n",
       "      <td>1.0</td>\n",
       "      <td>CA</td>\n",
       "      <td>...</td>\n",
       "      <td>NaN</td>\n",
       "      <td>M</td>\n",
       "      <td>1991.0</td>\n",
       "      <td>10272016</td>\n",
       "      <td>M</td>\n",
       "      <td>NaN</td>\n",
       "      <td>QR</td>\n",
       "      <td>9.478970e+10</td>\n",
       "      <td>00739</td>\n",
       "      <td>B2</td>\n",
       "    </tr>\n",
       "    <tr>\n",
       "      <th>4</th>\n",
       "      <td>3032257</td>\n",
       "      <td>985523.0</td>\n",
       "      <td>2016.0</td>\n",
       "      <td>4.0</td>\n",
       "      <td>111.0</td>\n",
       "      <td>111.0</td>\n",
       "      <td>CHM</td>\n",
       "      <td>20550.0</td>\n",
       "      <td>3.0</td>\n",
       "      <td>NY</td>\n",
       "      <td>...</td>\n",
       "      <td>NaN</td>\n",
       "      <td>M</td>\n",
       "      <td>1997.0</td>\n",
       "      <td>07042016</td>\n",
       "      <td>F</td>\n",
       "      <td>NaN</td>\n",
       "      <td>NaN</td>\n",
       "      <td>4.232257e+10</td>\n",
       "      <td>LAND</td>\n",
       "      <td>WT</td>\n",
       "    </tr>\n",
       "  </tbody>\n",
       "</table>\n",
       "<p>5 rows × 29 columns</p>\n",
       "</div>"
      ],
      "text/plain": [
       "   Unnamed: 0      cicid   i94yr  i94mon  i94cit  i94res i94port  arrdate  \\\n",
       "0     2027561  4084316.0  2016.0     4.0   209.0   209.0     HHW  20566.0   \n",
       "1     2171295  4422636.0  2016.0     4.0   582.0   582.0     MCA  20567.0   \n",
       "2      589494  1195600.0  2016.0     4.0   148.0   112.0     OGG  20551.0   \n",
       "3     2631158  5291768.0  2016.0     4.0   297.0   297.0     LOS  20572.0   \n",
       "4     3032257   985523.0  2016.0     4.0   111.0   111.0     CHM  20550.0   \n",
       "\n",
       "   i94mode i94addr    ...     entdepu  matflag  biryear   dtaddto  gender  \\\n",
       "0      1.0      HI    ...         NaN        M   1955.0  07202016       F   \n",
       "1      1.0      TX    ...         NaN        M   1990.0  10222016       M   \n",
       "2      1.0      FL    ...         NaN        M   1940.0  07052016       M   \n",
       "3      1.0      CA    ...         NaN        M   1991.0  10272016       M   \n",
       "4      3.0      NY    ...         NaN        M   1997.0  07042016       F   \n",
       "\n",
       "  insnum airline        admnum  fltno  visatype  \n",
       "0    NaN      JL  5.658267e+10  00782        WT  \n",
       "1    NaN     *GA  9.436200e+10  XBLNG        B2  \n",
       "2    NaN      LH  5.578047e+10  00464        WT  \n",
       "3    NaN      QR  9.478970e+10  00739        B2  \n",
       "4    NaN     NaN  4.232257e+10   LAND        WT  \n",
       "\n",
       "[5 rows x 29 columns]"
      ]
     },
     "execution_count": 7,
     "metadata": {},
     "output_type": "execute_result"
    }
   ],
   "source": [
    "immig_sample_df.head()"
   ]
  },
  {
   "cell_type": "code",
   "execution_count": 8,
   "metadata": {
    "editable": true
   },
   "outputs": [
    {
     "name": "stdout",
     "output_type": "stream",
     "text": [
      "['ident', 'type', 'name', 'elevation_ft', 'continent', 'iso_country', 'iso_region', 'municipality', 'gps_code', 'iata_code', 'local_code', 'coordinates']\n"
     ]
    }
   ],
   "source": [
    "print(list(airports_df.columns))"
   ]
  },
  {
   "cell_type": "code",
   "execution_count": 9,
   "metadata": {
    "editable": true
   },
   "outputs": [
    {
     "data": {
      "text/html": [
       "<div>\n",
       "<style scoped>\n",
       "    .dataframe tbody tr th:only-of-type {\n",
       "        vertical-align: middle;\n",
       "    }\n",
       "\n",
       "    .dataframe tbody tr th {\n",
       "        vertical-align: top;\n",
       "    }\n",
       "\n",
       "    .dataframe thead th {\n",
       "        text-align: right;\n",
       "    }\n",
       "</style>\n",
       "<table border=\"1\" class=\"dataframe\">\n",
       "  <thead>\n",
       "    <tr style=\"text-align: right;\">\n",
       "      <th></th>\n",
       "      <th>ident</th>\n",
       "      <th>type</th>\n",
       "      <th>name</th>\n",
       "      <th>elevation_ft</th>\n",
       "      <th>continent</th>\n",
       "      <th>iso_country</th>\n",
       "      <th>iso_region</th>\n",
       "      <th>municipality</th>\n",
       "      <th>gps_code</th>\n",
       "      <th>iata_code</th>\n",
       "      <th>local_code</th>\n",
       "      <th>coordinates</th>\n",
       "    </tr>\n",
       "  </thead>\n",
       "  <tbody>\n",
       "    <tr>\n",
       "      <th>0</th>\n",
       "      <td>00A</td>\n",
       "      <td>heliport</td>\n",
       "      <td>Total Rf Heliport</td>\n",
       "      <td>11.0</td>\n",
       "      <td>NaN</td>\n",
       "      <td>US</td>\n",
       "      <td>US-PA</td>\n",
       "      <td>Bensalem</td>\n",
       "      <td>00A</td>\n",
       "      <td>NaN</td>\n",
       "      <td>00A</td>\n",
       "      <td>-74.93360137939453, 40.07080078125</td>\n",
       "    </tr>\n",
       "    <tr>\n",
       "      <th>1</th>\n",
       "      <td>00AA</td>\n",
       "      <td>small_airport</td>\n",
       "      <td>Aero B Ranch Airport</td>\n",
       "      <td>3435.0</td>\n",
       "      <td>NaN</td>\n",
       "      <td>US</td>\n",
       "      <td>US-KS</td>\n",
       "      <td>Leoti</td>\n",
       "      <td>00AA</td>\n",
       "      <td>NaN</td>\n",
       "      <td>00AA</td>\n",
       "      <td>-101.473911, 38.704022</td>\n",
       "    </tr>\n",
       "    <tr>\n",
       "      <th>2</th>\n",
       "      <td>00AK</td>\n",
       "      <td>small_airport</td>\n",
       "      <td>Lowell Field</td>\n",
       "      <td>450.0</td>\n",
       "      <td>NaN</td>\n",
       "      <td>US</td>\n",
       "      <td>US-AK</td>\n",
       "      <td>Anchor Point</td>\n",
       "      <td>00AK</td>\n",
       "      <td>NaN</td>\n",
       "      <td>00AK</td>\n",
       "      <td>-151.695999146, 59.94919968</td>\n",
       "    </tr>\n",
       "    <tr>\n",
       "      <th>3</th>\n",
       "      <td>00AL</td>\n",
       "      <td>small_airport</td>\n",
       "      <td>Epps Airpark</td>\n",
       "      <td>820.0</td>\n",
       "      <td>NaN</td>\n",
       "      <td>US</td>\n",
       "      <td>US-AL</td>\n",
       "      <td>Harvest</td>\n",
       "      <td>00AL</td>\n",
       "      <td>NaN</td>\n",
       "      <td>00AL</td>\n",
       "      <td>-86.77030181884766, 34.86479949951172</td>\n",
       "    </tr>\n",
       "    <tr>\n",
       "      <th>4</th>\n",
       "      <td>00AR</td>\n",
       "      <td>closed</td>\n",
       "      <td>Newport Hospital &amp; Clinic Heliport</td>\n",
       "      <td>237.0</td>\n",
       "      <td>NaN</td>\n",
       "      <td>US</td>\n",
       "      <td>US-AR</td>\n",
       "      <td>Newport</td>\n",
       "      <td>NaN</td>\n",
       "      <td>NaN</td>\n",
       "      <td>NaN</td>\n",
       "      <td>-91.254898, 35.6087</td>\n",
       "    </tr>\n",
       "  </tbody>\n",
       "</table>\n",
       "</div>"
      ],
      "text/plain": [
       "  ident           type                                name  elevation_ft  \\\n",
       "0   00A       heliport                   Total Rf Heliport          11.0   \n",
       "1  00AA  small_airport                Aero B Ranch Airport        3435.0   \n",
       "2  00AK  small_airport                        Lowell Field         450.0   \n",
       "3  00AL  small_airport                        Epps Airpark         820.0   \n",
       "4  00AR         closed  Newport Hospital & Clinic Heliport         237.0   \n",
       "\n",
       "  continent iso_country iso_region  municipality gps_code iata_code  \\\n",
       "0       NaN          US      US-PA      Bensalem      00A       NaN   \n",
       "1       NaN          US      US-KS         Leoti     00AA       NaN   \n",
       "2       NaN          US      US-AK  Anchor Point     00AK       NaN   \n",
       "3       NaN          US      US-AL       Harvest     00AL       NaN   \n",
       "4       NaN          US      US-AR       Newport      NaN       NaN   \n",
       "\n",
       "  local_code                            coordinates  \n",
       "0        00A     -74.93360137939453, 40.07080078125  \n",
       "1       00AA                 -101.473911, 38.704022  \n",
       "2       00AK            -151.695999146, 59.94919968  \n",
       "3       00AL  -86.77030181884766, 34.86479949951172  \n",
       "4        NaN                    -91.254898, 35.6087  "
      ]
     },
     "execution_count": 9,
     "metadata": {},
     "output_type": "execute_result"
    }
   ],
   "source": [
    "airports_df.head()"
   ]
  },
  {
   "cell_type": "code",
   "execution_count": 10,
   "metadata": {
    "editable": true
   },
   "outputs": [
    {
     "name": "stdout",
     "output_type": "stream",
     "text": [
      "['active', 'alias', 'callsign', 'country', 'iata', 'icao', 'id', 'name']\n"
     ]
    }
   ],
   "source": [
    "print(list(airlines_df.columns))"
   ]
  },
  {
   "cell_type": "code",
   "execution_count": 11,
   "metadata": {
    "editable": true
   },
   "outputs": [
    {
     "data": {
      "text/html": [
       "<div>\n",
       "<style scoped>\n",
       "    .dataframe tbody tr th:only-of-type {\n",
       "        vertical-align: middle;\n",
       "    }\n",
       "\n",
       "    .dataframe tbody tr th {\n",
       "        vertical-align: top;\n",
       "    }\n",
       "\n",
       "    .dataframe thead th {\n",
       "        text-align: right;\n",
       "    }\n",
       "</style>\n",
       "<table border=\"1\" class=\"dataframe\">\n",
       "  <thead>\n",
       "    <tr style=\"text-align: right;\">\n",
       "      <th></th>\n",
       "      <th>active</th>\n",
       "      <th>alias</th>\n",
       "      <th>callsign</th>\n",
       "      <th>country</th>\n",
       "      <th>iata</th>\n",
       "      <th>icao</th>\n",
       "      <th>id</th>\n",
       "      <th>name</th>\n",
       "    </tr>\n",
       "  </thead>\n",
       "  <tbody>\n",
       "    <tr>\n",
       "      <th>0</th>\n",
       "      <td>Y</td>\n",
       "      <td>\\N</td>\n",
       "      <td></td>\n",
       "      <td></td>\n",
       "      <td>-</td>\n",
       "      <td>N/A</td>\n",
       "      <td>1</td>\n",
       "      <td>Private flight</td>\n",
       "    </tr>\n",
       "    <tr>\n",
       "      <th>1</th>\n",
       "      <td>N</td>\n",
       "      <td>\\N</td>\n",
       "      <td>GENERAL</td>\n",
       "      <td>United States</td>\n",
       "      <td></td>\n",
       "      <td>GNL</td>\n",
       "      <td>2</td>\n",
       "      <td>135 Airways</td>\n",
       "    </tr>\n",
       "    <tr>\n",
       "      <th>2</th>\n",
       "      <td>Y</td>\n",
       "      <td>\\N</td>\n",
       "      <td>NEXTIME</td>\n",
       "      <td>South Africa</td>\n",
       "      <td>1T</td>\n",
       "      <td>RNX</td>\n",
       "      <td>3</td>\n",
       "      <td>1Time Airline</td>\n",
       "    </tr>\n",
       "    <tr>\n",
       "      <th>3</th>\n",
       "      <td>N</td>\n",
       "      <td>\\N</td>\n",
       "      <td></td>\n",
       "      <td>United Kingdom</td>\n",
       "      <td></td>\n",
       "      <td>WYT</td>\n",
       "      <td>4</td>\n",
       "      <td>2 Sqn No 1 Elementary Flying Training School</td>\n",
       "    </tr>\n",
       "    <tr>\n",
       "      <th>4</th>\n",
       "      <td>N</td>\n",
       "      <td>\\N</td>\n",
       "      <td></td>\n",
       "      <td>Russia</td>\n",
       "      <td></td>\n",
       "      <td>TFU</td>\n",
       "      <td>5</td>\n",
       "      <td>213 Flight Unit</td>\n",
       "    </tr>\n",
       "  </tbody>\n",
       "</table>\n",
       "</div>"
      ],
      "text/plain": [
       "  active alias callsign         country iata icao  id  \\\n",
       "0      Y    \\N                             -  N/A   1   \n",
       "1      N    \\N  GENERAL   United States       GNL   2   \n",
       "2      Y    \\N  NEXTIME    South Africa   1T  RNX   3   \n",
       "3      N    \\N           United Kingdom       WYT   4   \n",
       "4      N    \\N                   Russia       TFU   5   \n",
       "\n",
       "                                           name  \n",
       "0                                Private flight  \n",
       "1                                   135 Airways  \n",
       "2                                 1Time Airline  \n",
       "3  2 Sqn No 1 Elementary Flying Training School  \n",
       "4                               213 Flight Unit  "
      ]
     },
     "execution_count": 11,
     "metadata": {},
     "output_type": "execute_result"
    }
   ],
   "source": [
    "airlines_df.head()"
   ]
  },
  {
   "cell_type": "code",
   "execution_count": 12,
   "metadata": {
    "editable": true
   },
   "outputs": [],
   "source": [
    "airlines_df = airlines_df[ airlines_df.active=='Y' ][ ['iata','name','country'] ]"
   ]
  },
  {
   "cell_type": "code",
   "execution_count": 13,
   "metadata": {
    "editable": true
   },
   "outputs": [
    {
     "data": {
      "text/plain": [
       "(1178, 3)"
      ]
     },
     "execution_count": 13,
     "metadata": {},
     "output_type": "execute_result"
    }
   ],
   "source": [
    "airlines_df.shape"
   ]
  },
  {
   "cell_type": "code",
   "execution_count": 14,
   "metadata": {
    "editable": true
   },
   "outputs": [
    {
     "data": {
      "text/html": [
       "<div>\n",
       "<style scoped>\n",
       "    .dataframe tbody tr th:only-of-type {\n",
       "        vertical-align: middle;\n",
       "    }\n",
       "\n",
       "    .dataframe tbody tr th {\n",
       "        vertical-align: top;\n",
       "    }\n",
       "\n",
       "    .dataframe thead th {\n",
       "        text-align: right;\n",
       "    }\n",
       "</style>\n",
       "<table border=\"1\" class=\"dataframe\">\n",
       "  <thead>\n",
       "    <tr style=\"text-align: right;\">\n",
       "      <th></th>\n",
       "      <th>iata</th>\n",
       "      <th>name</th>\n",
       "      <th>country</th>\n",
       "    </tr>\n",
       "  </thead>\n",
       "  <tbody>\n",
       "    <tr>\n",
       "      <th>0</th>\n",
       "      <td>-</td>\n",
       "      <td>Private flight</td>\n",
       "      <td></td>\n",
       "    </tr>\n",
       "    <tr>\n",
       "      <th>2</th>\n",
       "      <td>1T</td>\n",
       "      <td>1Time Airline</td>\n",
       "      <td>South Africa</td>\n",
       "    </tr>\n",
       "    <tr>\n",
       "      <th>9</th>\n",
       "      <td>Q5</td>\n",
       "      <td>40-Mile Air</td>\n",
       "      <td>United States</td>\n",
       "    </tr>\n",
       "    <tr>\n",
       "      <th>12</th>\n",
       "      <td>AN</td>\n",
       "      <td>Ansett Australia</td>\n",
       "      <td>Australia</td>\n",
       "    </tr>\n",
       "    <tr>\n",
       "      <th>13</th>\n",
       "      <td>1B</td>\n",
       "      <td>Abacus International</td>\n",
       "      <td>Singapore</td>\n",
       "    </tr>\n",
       "    <tr>\n",
       "      <th>20</th>\n",
       "      <td>ZI</td>\n",
       "      <td>Aigle Azur</td>\n",
       "      <td>France</td>\n",
       "    </tr>\n",
       "    <tr>\n",
       "      <th>21</th>\n",
       "      <td>AQ</td>\n",
       "      <td>Aloha Airlines</td>\n",
       "      <td>United States</td>\n",
       "    </tr>\n",
       "    <tr>\n",
       "      <th>23</th>\n",
       "      <td>AA</td>\n",
       "      <td>American Airlines</td>\n",
       "      <td>United States</td>\n",
       "    </tr>\n",
       "    <tr>\n",
       "      <th>27</th>\n",
       "      <td>OZ</td>\n",
       "      <td>Asiana Airlines</td>\n",
       "      <td>Republic of Korea</td>\n",
       "    </tr>\n",
       "    <tr>\n",
       "      <th>28</th>\n",
       "      <td>4K</td>\n",
       "      <td>Askari Aviation</td>\n",
       "      <td>Pakistan</td>\n",
       "    </tr>\n",
       "  </tbody>\n",
       "</table>\n",
       "</div>"
      ],
      "text/plain": [
       "   iata                  name            country\n",
       "0     -        Private flight                   \n",
       "2    1T         1Time Airline       South Africa\n",
       "9    Q5           40-Mile Air      United States\n",
       "12   AN      Ansett Australia          Australia\n",
       "13   1B  Abacus International          Singapore\n",
       "20   ZI            Aigle Azur             France\n",
       "21   AQ        Aloha Airlines      United States\n",
       "23   AA     American Airlines      United States\n",
       "27   OZ       Asiana Airlines  Republic of Korea\n",
       "28   4K       Askari Aviation           Pakistan"
      ]
     },
     "execution_count": 14,
     "metadata": {},
     "output_type": "execute_result"
    }
   ],
   "source": [
    "airlines_df.head(10)"
   ]
  },
  {
   "cell_type": "code",
   "execution_count": 15,
   "metadata": {
    "editable": true
   },
   "outputs": [
    {
     "name": "stdout",
     "output_type": "stream",
     "text": [
      "['heliport', 'small_airport', 'closed', 'seaplane_base', 'balloonport', 'medium_airport', 'large_airport']\n"
     ]
    }
   ],
   "source": [
    "print(list(airports_df.type.unique()))"
   ]
  },
  {
   "cell_type": "code",
   "execution_count": 16,
   "metadata": {
    "editable": true
   },
   "outputs": [
    {
     "name": "stdout",
     "output_type": "stream",
     "text": [
      "2810\n"
     ]
    }
   ],
   "source": [
    "print(len(airports_df.iso_region.unique()))"
   ]
  },
  {
   "cell_type": "code",
   "execution_count": 17,
   "metadata": {
    "editable": true
   },
   "outputs": [],
   "source": [
    "# getting only USA airports\n",
    "gaports = airports_df[airports_df.iso_region=='US-GA']"
   ]
  },
  {
   "cell_type": "code",
   "execution_count": 18,
   "metadata": {
    "editable": true
   },
   "outputs": [
    {
     "data": {
      "text/html": [
       "<div>\n",
       "<style scoped>\n",
       "    .dataframe tbody tr th:only-of-type {\n",
       "        vertical-align: middle;\n",
       "    }\n",
       "\n",
       "    .dataframe tbody tr th {\n",
       "        vertical-align: top;\n",
       "    }\n",
       "\n",
       "    .dataframe thead th {\n",
       "        text-align: right;\n",
       "    }\n",
       "</style>\n",
       "<table border=\"1\" class=\"dataframe\">\n",
       "  <thead>\n",
       "    <tr style=\"text-align: right;\">\n",
       "      <th></th>\n",
       "      <th>ident</th>\n",
       "      <th>type</th>\n",
       "      <th>name</th>\n",
       "      <th>elevation_ft</th>\n",
       "      <th>continent</th>\n",
       "      <th>iso_country</th>\n",
       "      <th>iso_region</th>\n",
       "      <th>municipality</th>\n",
       "      <th>gps_code</th>\n",
       "      <th>iata_code</th>\n",
       "      <th>local_code</th>\n",
       "      <th>coordinates</th>\n",
       "    </tr>\n",
       "  </thead>\n",
       "  <tbody>\n",
       "    <tr>\n",
       "      <th>14</th>\n",
       "      <td>00GA</td>\n",
       "      <td>small_airport</td>\n",
       "      <td>Lt World Airport</td>\n",
       "      <td>700.0</td>\n",
       "      <td>NaN</td>\n",
       "      <td>US</td>\n",
       "      <td>US-GA</td>\n",
       "      <td>Lithonia</td>\n",
       "      <td>00GA</td>\n",
       "      <td>NaN</td>\n",
       "      <td>00GA</td>\n",
       "      <td>-84.06829833984375, 33.76750183105469</td>\n",
       "    </tr>\n",
       "    <tr>\n",
       "      <th>15</th>\n",
       "      <td>00GE</td>\n",
       "      <td>heliport</td>\n",
       "      <td>Caffrey Heliport</td>\n",
       "      <td>957.0</td>\n",
       "      <td>NaN</td>\n",
       "      <td>US</td>\n",
       "      <td>US-GA</td>\n",
       "      <td>Hiram</td>\n",
       "      <td>00GE</td>\n",
       "      <td>NaN</td>\n",
       "      <td>00GE</td>\n",
       "      <td>-84.73390197753906, 33.88420104980469</td>\n",
       "    </tr>\n",
       "    <tr>\n",
       "      <th>77</th>\n",
       "      <td>01GA</td>\n",
       "      <td>heliport</td>\n",
       "      <td>Medical Center Heliport</td>\n",
       "      <td>319.0</td>\n",
       "      <td>NaN</td>\n",
       "      <td>US</td>\n",
       "      <td>US-GA</td>\n",
       "      <td>Columbus</td>\n",
       "      <td>01GA</td>\n",
       "      <td>NaN</td>\n",
       "      <td>01GA</td>\n",
       "      <td>-84.9791030883789, 32.47930145263672</td>\n",
       "    </tr>\n",
       "    <tr>\n",
       "      <th>78</th>\n",
       "      <td>01GE</td>\n",
       "      <td>small_airport</td>\n",
       "      <td>The Farm Airport</td>\n",
       "      <td>375.0</td>\n",
       "      <td>NaN</td>\n",
       "      <td>US</td>\n",
       "      <td>US-GA</td>\n",
       "      <td>Wrightsville</td>\n",
       "      <td>01GE</td>\n",
       "      <td>NaN</td>\n",
       "      <td>01GE</td>\n",
       "      <td>-82.77110290527344, 32.674400329589844</td>\n",
       "    </tr>\n",
       "    <tr>\n",
       "      <th>139</th>\n",
       "      <td>02GA</td>\n",
       "      <td>small_airport</td>\n",
       "      <td>Doug Bolton Field</td>\n",
       "      <td>884.0</td>\n",
       "      <td>NaN</td>\n",
       "      <td>US</td>\n",
       "      <td>US-GA</td>\n",
       "      <td>Commerce</td>\n",
       "      <td>02GA</td>\n",
       "      <td>NaN</td>\n",
       "      <td>02GA</td>\n",
       "      <td>-83.42900085449219, 34.202598571777344</td>\n",
       "    </tr>\n",
       "  </tbody>\n",
       "</table>\n",
       "</div>"
      ],
      "text/plain": [
       "    ident           type                     name  elevation_ft continent  \\\n",
       "14   00GA  small_airport         Lt World Airport         700.0       NaN   \n",
       "15   00GE       heliport         Caffrey Heliport         957.0       NaN   \n",
       "77   01GA       heliport  Medical Center Heliport         319.0       NaN   \n",
       "78   01GE  small_airport         The Farm Airport         375.0       NaN   \n",
       "139  02GA  small_airport        Doug Bolton Field         884.0       NaN   \n",
       "\n",
       "    iso_country iso_region  municipality gps_code iata_code local_code  \\\n",
       "14           US      US-GA      Lithonia     00GA       NaN       00GA   \n",
       "15           US      US-GA         Hiram     00GE       NaN       00GE   \n",
       "77           US      US-GA      Columbus     01GA       NaN       01GA   \n",
       "78           US      US-GA  Wrightsville     01GE       NaN       01GE   \n",
       "139          US      US-GA      Commerce     02GA       NaN       02GA   \n",
       "\n",
       "                                coordinates  \n",
       "14    -84.06829833984375, 33.76750183105469  \n",
       "15    -84.73390197753906, 33.88420104980469  \n",
       "77     -84.9791030883789, 32.47930145263672  \n",
       "78   -82.77110290527344, 32.674400329589844  \n",
       "139  -83.42900085449219, 34.202598571777344  "
      ]
     },
     "execution_count": 18,
     "metadata": {},
     "output_type": "execute_result"
    }
   ],
   "source": [
    "gaports.head()"
   ]
  },
  {
   "cell_type": "code",
   "execution_count": 19,
   "metadata": {
    "editable": true
   },
   "outputs": [],
   "source": [
    "# getting medium to large airports only, where immigrants come, and selecting useful columns\n",
    "gaports = gaports[ ((gaports.type=='large_airport') | (gaports.type=='medium_airport')) ][ ['name','type','municipality','local_code'] ]"
   ]
  },
  {
   "cell_type": "code",
   "execution_count": 20,
   "metadata": {
    "editable": true
   },
   "outputs": [
    {
     "data": {
      "text/html": [
       "<div>\n",
       "<style scoped>\n",
       "    .dataframe tbody tr th:only-of-type {\n",
       "        vertical-align: middle;\n",
       "    }\n",
       "\n",
       "    .dataframe tbody tr th {\n",
       "        vertical-align: top;\n",
       "    }\n",
       "\n",
       "    .dataframe thead th {\n",
       "        text-align: right;\n",
       "    }\n",
       "</style>\n",
       "<table border=\"1\" class=\"dataframe\">\n",
       "  <thead>\n",
       "    <tr style=\"text-align: right;\">\n",
       "      <th></th>\n",
       "      <th>name</th>\n",
       "      <th>type</th>\n",
       "      <th>municipality</th>\n",
       "      <th>local_code</th>\n",
       "    </tr>\n",
       "  </thead>\n",
       "  <tbody>\n",
       "    <tr>\n",
       "      <th>26009</th>\n",
       "      <td>Southwest Georgia Regional Airport</td>\n",
       "      <td>medium_airport</td>\n",
       "      <td>Albany</td>\n",
       "      <td>ABY</td>\n",
       "    </tr>\n",
       "    <tr>\n",
       "      <th>26043</th>\n",
       "      <td>Augusta Regional At Bush Field</td>\n",
       "      <td>large_airport</td>\n",
       "      <td>Augusta</td>\n",
       "      <td>AGS</td>\n",
       "    </tr>\n",
       "    <tr>\n",
       "      <th>26047</th>\n",
       "      <td>Athens Ben Epps Airport</td>\n",
       "      <td>medium_airport</td>\n",
       "      <td>Athens</td>\n",
       "      <td>AHN</td>\n",
       "    </tr>\n",
       "    <tr>\n",
       "      <th>26128</th>\n",
       "      <td>Hartsfield Jackson Atlanta International Airport</td>\n",
       "      <td>large_airport</td>\n",
       "      <td>Atlanta</td>\n",
       "      <td>ATL</td>\n",
       "    </tr>\n",
       "    <tr>\n",
       "      <th>26261</th>\n",
       "      <td>Brunswick Golden Isles Airport</td>\n",
       "      <td>medium_airport</td>\n",
       "      <td>Brunswick</td>\n",
       "      <td>BQK</td>\n",
       "    </tr>\n",
       "  </tbody>\n",
       "</table>\n",
       "</div>"
      ],
      "text/plain": [
       "                                                   name            type  \\\n",
       "26009                Southwest Georgia Regional Airport  medium_airport   \n",
       "26043                    Augusta Regional At Bush Field   large_airport   \n",
       "26047                           Athens Ben Epps Airport  medium_airport   \n",
       "26128  Hartsfield Jackson Atlanta International Airport   large_airport   \n",
       "26261                    Brunswick Golden Isles Airport  medium_airport   \n",
       "\n",
       "      municipality local_code  \n",
       "26009       Albany        ABY  \n",
       "26043      Augusta        AGS  \n",
       "26047       Athens        AHN  \n",
       "26128      Atlanta        ATL  \n",
       "26261    Brunswick        BQK  "
      ]
     },
     "execution_count": 20,
     "metadata": {},
     "output_type": "execute_result"
    }
   ],
   "source": [
    "gaports.head()"
   ]
  },
  {
   "cell_type": "code",
   "execution_count": 21,
   "metadata": {
    "editable": true
   },
   "outputs": [
    {
     "data": {
      "text/plain": [
       "name            object\n",
       "type            object\n",
       "municipality    object\n",
       "local_code      object\n",
       "dtype: object"
      ]
     },
     "execution_count": 21,
     "metadata": {},
     "output_type": "execute_result"
    }
   ],
   "source": [
    "gaports.dtypes"
   ]
  },
  {
   "cell_type": "code",
   "execution_count": 22,
   "metadata": {
    "editable": true
   },
   "outputs": [
    {
     "name": "stdout",
     "output_type": "stream",
     "text": [
      "['Albany', 'Augusta', 'Athens', 'Atlanta', 'Brunswick', 'Columbus', 'Fort Benning(Columbus)', 'Macon', 'Marietta', 'Rome', 'Savannah', 'Valdosta', 'Warner Robins', 'Conyers']\n"
     ]
    }
   ],
   "source": [
    "print(list(gaports.municipality.unique()))"
   ]
  },
  {
   "cell_type": "code",
   "execution_count": 23,
   "metadata": {
    "editable": true
   },
   "outputs": [
    {
     "name": "stdout",
     "output_type": "stream",
     "text": [
      "['ABY', 'AGS', 'AHN', 'ATL', 'BQK', 'CSG', 'DNL', 'FTY', 'LSF', 'MCN', 'MGE', 'PDK', 'RMG', 'RYY', 'SAV', 'SSI', 'SVN', 'VAD', 'VLD', 'WRB', nan]\n"
     ]
    }
   ],
   "source": [
    "print(list(gaports.local_code.unique()))"
   ]
  },
  {
   "cell_type": "code",
   "execution_count": 24,
   "metadata": {
    "editable": true
   },
   "outputs": [
    {
     "data": {
      "text/plain": [
       "STU    2\n",
       "OTH    1\n",
       "PHA    1\n",
       "Name: occup, dtype: int64"
      ]
     },
     "execution_count": 24,
     "metadata": {},
     "output_type": "execute_result"
    }
   ],
   "source": [
    "immig_sample_df.occup.value_counts()"
   ]
  },
  {
   "cell_type": "code",
   "execution_count": 25,
   "metadata": {
    "editable": true
   },
   "outputs": [],
   "source": [
    "immig_sample_df = immig_sample_df[ ['cicid','i94yr','i94mon','i94port','visatype','gender','biryear','arrdate','airline'] ]"
   ]
  },
  {
   "cell_type": "code",
   "execution_count": 26,
   "metadata": {
    "editable": true
   },
   "outputs": [
    {
     "data": {
      "text/html": [
       "<div>\n",
       "<style scoped>\n",
       "    .dataframe tbody tr th:only-of-type {\n",
       "        vertical-align: middle;\n",
       "    }\n",
       "\n",
       "    .dataframe tbody tr th {\n",
       "        vertical-align: top;\n",
       "    }\n",
       "\n",
       "    .dataframe thead th {\n",
       "        text-align: right;\n",
       "    }\n",
       "</style>\n",
       "<table border=\"1\" class=\"dataframe\">\n",
       "  <thead>\n",
       "    <tr style=\"text-align: right;\">\n",
       "      <th></th>\n",
       "      <th>cicid</th>\n",
       "      <th>i94yr</th>\n",
       "      <th>i94mon</th>\n",
       "      <th>i94port</th>\n",
       "      <th>visatype</th>\n",
       "      <th>gender</th>\n",
       "      <th>biryear</th>\n",
       "      <th>arrdate</th>\n",
       "      <th>airline</th>\n",
       "    </tr>\n",
       "  </thead>\n",
       "  <tbody>\n",
       "    <tr>\n",
       "      <th>0</th>\n",
       "      <td>4084316.0</td>\n",
       "      <td>2016.0</td>\n",
       "      <td>4.0</td>\n",
       "      <td>HHW</td>\n",
       "      <td>WT</td>\n",
       "      <td>F</td>\n",
       "      <td>1955.0</td>\n",
       "      <td>20566.0</td>\n",
       "      <td>JL</td>\n",
       "    </tr>\n",
       "    <tr>\n",
       "      <th>1</th>\n",
       "      <td>4422636.0</td>\n",
       "      <td>2016.0</td>\n",
       "      <td>4.0</td>\n",
       "      <td>MCA</td>\n",
       "      <td>B2</td>\n",
       "      <td>M</td>\n",
       "      <td>1990.0</td>\n",
       "      <td>20567.0</td>\n",
       "      <td>*GA</td>\n",
       "    </tr>\n",
       "    <tr>\n",
       "      <th>2</th>\n",
       "      <td>1195600.0</td>\n",
       "      <td>2016.0</td>\n",
       "      <td>4.0</td>\n",
       "      <td>OGG</td>\n",
       "      <td>WT</td>\n",
       "      <td>M</td>\n",
       "      <td>1940.0</td>\n",
       "      <td>20551.0</td>\n",
       "      <td>LH</td>\n",
       "    </tr>\n",
       "    <tr>\n",
       "      <th>3</th>\n",
       "      <td>5291768.0</td>\n",
       "      <td>2016.0</td>\n",
       "      <td>4.0</td>\n",
       "      <td>LOS</td>\n",
       "      <td>B2</td>\n",
       "      <td>M</td>\n",
       "      <td>1991.0</td>\n",
       "      <td>20572.0</td>\n",
       "      <td>QR</td>\n",
       "    </tr>\n",
       "    <tr>\n",
       "      <th>4</th>\n",
       "      <td>985523.0</td>\n",
       "      <td>2016.0</td>\n",
       "      <td>4.0</td>\n",
       "      <td>CHM</td>\n",
       "      <td>WT</td>\n",
       "      <td>F</td>\n",
       "      <td>1997.0</td>\n",
       "      <td>20550.0</td>\n",
       "      <td>NaN</td>\n",
       "    </tr>\n",
       "  </tbody>\n",
       "</table>\n",
       "</div>"
      ],
      "text/plain": [
       "       cicid   i94yr  i94mon i94port visatype gender  biryear  arrdate airline\n",
       "0  4084316.0  2016.0     4.0     HHW       WT      F   1955.0  20566.0      JL\n",
       "1  4422636.0  2016.0     4.0     MCA       B2      M   1990.0  20567.0     *GA\n",
       "2  1195600.0  2016.0     4.0     OGG       WT      M   1940.0  20551.0      LH\n",
       "3  5291768.0  2016.0     4.0     LOS       B2      M   1991.0  20572.0      QR\n",
       "4   985523.0  2016.0     4.0     CHM       WT      F   1997.0  20550.0     NaN"
      ]
     },
     "execution_count": 26,
     "metadata": {},
     "output_type": "execute_result"
    }
   ],
   "source": [
    "immig_sample_df.head()"
   ]
  },
  {
   "cell_type": "code",
   "execution_count": 27,
   "metadata": {
    "editable": true
   },
   "outputs": [
    {
     "data": {
      "text/plain": [
       "cicid       float64\n",
       "i94yr       float64\n",
       "i94mon      float64\n",
       "i94port      object\n",
       "visatype     object\n",
       "gender       object\n",
       "biryear     float64\n",
       "arrdate     float64\n",
       "airline      object\n",
       "dtype: object"
      ]
     },
     "execution_count": 27,
     "metadata": {},
     "output_type": "execute_result"
    }
   ],
   "source": [
    "immig_sample_df.dtypes"
   ]
  },
  {
   "cell_type": "code",
   "execution_count": 28,
   "metadata": {
    "editable": true
   },
   "outputs": [
    {
     "data": {
      "text/plain": [
       "array(['F', 'M', nan, 'X'], dtype=object)"
      ]
     },
     "execution_count": 28,
     "metadata": {},
     "output_type": "execute_result"
    }
   ],
   "source": [
    "immig_sample_df.gender.unique()"
   ]
  },
  {
   "cell_type": "code",
   "execution_count": 29,
   "metadata": {
    "editable": true
   },
   "outputs": [
    {
     "data": {
      "text/plain": [
       "M    471\n",
       "F    386\n",
       "X      2\n",
       "Name: gender, dtype: int64"
      ]
     },
     "execution_count": 29,
     "metadata": {},
     "output_type": "execute_result"
    }
   ],
   "source": [
    "immig_sample_df.gender.value_counts()"
   ]
  },
  {
   "cell_type": "code",
   "execution_count": 30,
   "metadata": {
    "editable": true
   },
   "outputs": [
    {
     "name": "stdout",
     "output_type": "stream",
     "text": [
      "CSV Exists\n"
     ]
    }
   ],
   "source": [
    "sas_path = '../../data/18-83510-I94-Data-2016/i94_jan16_sub.sas7bdat'\n",
    "csv_path = '/home/workspace/immigration_csvs/F_1_2016.csv'\n",
    "if not exists(csv_path):\n",
    "    immigCur_df = pd.read_sas(sas_path, 'sas7bdat', encoding=\"ISO-8859-1\")\n",
    "    immigCur_df.to_csv(csv_path,index = False)\n",
    "    print('CSV Created at ',csv_path)\n",
    "else:\n",
    "    print('CSV Exists')"
   ]
  },
  {
   "cell_type": "code",
   "execution_count": 31,
   "metadata": {
    "editable": true
   },
   "outputs": [],
   "source": [
    "immi_schema = StructType([\n",
    "        StructField(\"cicid\", DoubleType()),\n",
    "        StructField(\"i94yr\", DoubleType()),\n",
    "        StructField(\"i94mon\", DoubleType()),\n",
    "        StructField(\"i94cit\", DoubleType()),\n",
    "        StructField(\"i94res\", DoubleType()),\n",
    "        StructField(\"i94port\", StringType()),    \n",
    "        StructField(\"arrdate\", DoubleType()),\n",
    "        StructField(\"i94mode\", DoubleType()),\n",
    "        StructField(\"i94addr\", StringType()),\n",
    "        StructField(\"depdate\", DoubleType()),\n",
    "        StructField(\"i94bir\", DoubleType()),\n",
    "        StructField(\"i94visa\", DoubleType()),\n",
    "        StructField(\"count\", DoubleType()),\n",
    "        StructField(\"dtadfile\", StringType()),\n",
    "        StructField(\"visapost\", StringType()),\n",
    "        StructField(\"occup\", StringType()),\n",
    "        StructField(\"entdepa\", StringType()),\n",
    "        StructField(\"entdepd\", StringType()),\n",
    "        StructField(\"entdepu\", StringType()),\n",
    "        StructField(\"matflag\", StringType()),\n",
    "        StructField(\"biryear\", DoubleType()),\n",
    "        StructField(\"dtaddto\", StringType()),\n",
    "        StructField(\"gender\", StringType()),\n",
    "        StructField(\"insnum\", StringType()),\n",
    "        StructField(\"airline\", StringType()),\n",
    "        StructField(\"admnum\", StringType()),\n",
    "        StructField(\"fltno\", StringType()),\n",
    "        StructField(\"visatype\", StringType()),\n",
    "    ])"
   ]
  },
  {
   "cell_type": "code",
   "execution_count": 32,
   "metadata": {
    "editable": true
   },
   "outputs": [
    {
     "name": "stdout",
     "output_type": "stream",
     "text": [
      "Loading  F_1_2016.csv\n"
     ]
    }
   ],
   "source": [
    "month_str = str(cur_month)\n",
    "filename = \"F_{month}_{year}.csv\".format(month=month_str,year=str(cur_year))\n",
    "print('Loading ',filename)"
   ]
  },
  {
   "cell_type": "code",
   "execution_count": 33,
   "metadata": {
    "editable": true
   },
   "outputs": [
    {
     "name": "stdout",
     "output_type": "stream",
     "text": [
      "+-----+------+------+------+------+-------+-------+-------+-------+-------+------+-------+-----+--------+--------+-----+-------+-------+-------+-------+-------+--------+------+------+-------+-----------+-----+--------+\n",
      "|cicid| i94yr|i94mon|i94cit|i94res|i94port|arrdate|i94mode|i94addr|depdate|i94bir|i94visa|count|dtadfile|visapost|occup|entdepa|entdepd|entdepu|matflag|biryear| dtaddto|gender|insnum|airline|     admnum|fltno|visatype|\n",
      "+-----+------+------+------+------+-------+-------+-------+-------+-------+------+-------+-----+--------+--------+-----+-------+-------+-------+-------+-------+--------+------+------+-------+-----------+-----+--------+\n",
      "|  7.0|2016.0|   1.0| 101.0| 101.0|    BOS|20465.0|    1.0|     MA|   null|  20.0|    3.0|  1.0|    null|    null| null|      T|   null|   null|   null| 1996.0|     D/S|     M|  null|     LH|346608285.0|  424|      F1|\n",
      "|  8.0|2016.0|   1.0| 101.0| 101.0|    BOS|20465.0|    1.0|     MA|   null|  20.0|    3.0|  1.0|    null|    null| null|      T|   null|   null|   null| 1996.0|     D/S|     M|  null|     LH|346627585.0|  424|      F1|\n",
      "|  9.0|2016.0|   1.0| 101.0| 101.0|    BOS|20469.0|    1.0|     CT|20480.0|  17.0|    2.0|  1.0|    null|    null| null|      T|      N|   null|      M| 1999.0|07152016|     F|  null|     AF|381092385.0|  338|      B2|\n",
      "| 10.0|2016.0|   1.0| 101.0| 101.0|    BOS|20469.0|    1.0|     CT|20499.0|  45.0|    2.0|  1.0|    null|    null| null|      T|      N|   null|      M| 1971.0|07152016|     F|  null|     AF|381087885.0|  338|      B2|\n",
      "| 11.0|2016.0|   1.0| 101.0| 101.0|    BOS|20469.0|    1.0|     CT|20499.0|  12.0|    2.0|  1.0|    null|    null| null|      T|      N|   null|      M| 2004.0|07152016|     M|  null|     AF|381078685.0|  338|      B2|\n",
      "| 12.0|2016.0|   1.0| 101.0| 101.0|    BOS|20474.0|    1.0|     MA|   null|  33.0|    2.0|  1.0|    null|    null| null|      T|   null|   null|   null| 1983.0|07202016|     M|  null|     LH|406155985.0|  424|      B2|\n",
      "| 15.0|2016.0|   1.0| 101.0| 101.0|    BOS|20477.0|    1.0|     MA|20524.0|  28.0|    3.0|  1.0|    null|    null| null|      T|      O|   null|      M| 1988.0|     D/S|     F|  null|     LH|417363085.0|  424|      F1|\n",
      "| 17.0|2016.0|   1.0| 101.0| 101.0|    BOS|20480.0|    1.0|     MA|   null|  78.0|    2.0|  1.0|    null|    null| null|      T|   null|   null|   null| 1938.0|07262016|     M|  null|     TK|428558285.0|   81|      B2|\n",
      "| 18.0|2016.0|   1.0| 101.0| 101.0|    BOS|20480.0|    1.0|     MA|   null|  70.0|    2.0|  1.0|    null|    null| null|      T|   null|   null|   null| 1946.0|07262016|     F|  null|     TK|428561085.0|   81|      B2|\n",
      "| 20.0|2016.0|   1.0| 101.0| 101.0|    CHI|20473.0|    1.0|     IL|20482.0|  28.0|    2.0|  1.0|    null|    null| null|      T|      O|   null|      M| 1988.0|07192016|     M|  null|     BA|401779785.0|  295|      B2|\n",
      "+-----+------+------+------+------+-------+-------+-------+-------+-------+------+-------+-----+--------+--------+-----+-------+-------+-------+-------+-------+--------+------+------+-------+-----------+-----+--------+\n",
      "only showing top 10 rows\n",
      "\n",
      "Loaded in  13.96  sec\n"
     ]
    }
   ],
   "source": [
    "tim = time.time()\n",
    "spark = SparkSession.builder.master(\"local[1]\").appName(\"EmpImmig\").getOrCreate()\n",
    "immig_df = spark.read.csv('/home/workspace/immigration_csvs/'+filename,schema = immi_schema, header=True)\n",
    "immig_df.show(n=10)\n",
    "print( 'Loaded in ',round(time.time()-tim,2),' sec' )"
   ]
  },
  {
   "cell_type": "code",
   "execution_count": 34,
   "metadata": {
    "editable": true
   },
   "outputs": [],
   "source": [
    "immig_df = immig_df.drop(\"i94cit\",\"i94res\",\"i94mode\",\"i94bir\",\"i94addr\",\"i94visa\",\"count\",\"depdate\",\\\n",
    "                         \"dtadfile\",\"visapost\",\"occup\",\"entdepa\",\"entdepd\",\"entdepu\",\"matflag\",\"dtaddto\",\"insnum\")"
   ]
  },
  {
   "cell_type": "code",
   "execution_count": 35,
   "metadata": {
    "editable": true
   },
   "outputs": [
    {
     "name": "stdout",
     "output_type": "stream",
     "text": [
      "+-----+------+------+-------+-------+-------+------+-------+-----------+-----+--------+\n",
      "|cicid| i94yr|i94mon|i94port|arrdate|biryear|gender|airline|     admnum|fltno|visatype|\n",
      "+-----+------+------+-------+-------+-------+------+-------+-----------+-----+--------+\n",
      "|  7.0|2016.0|   1.0|    BOS|20465.0| 1996.0|     M|     LH|346608285.0|  424|      F1|\n",
      "|  8.0|2016.0|   1.0|    BOS|20465.0| 1996.0|     M|     LH|346627585.0|  424|      F1|\n",
      "|  9.0|2016.0|   1.0|    BOS|20469.0| 1999.0|     F|     AF|381092385.0|  338|      B2|\n",
      "| 10.0|2016.0|   1.0|    BOS|20469.0| 1971.0|     F|     AF|381087885.0|  338|      B2|\n",
      "| 11.0|2016.0|   1.0|    BOS|20469.0| 2004.0|     M|     AF|381078685.0|  338|      B2|\n",
      "| 12.0|2016.0|   1.0|    BOS|20474.0| 1983.0|     M|     LH|406155985.0|  424|      B2|\n",
      "| 15.0|2016.0|   1.0|    BOS|20477.0| 1988.0|     F|     LH|417363085.0|  424|      F1|\n",
      "| 17.0|2016.0|   1.0|    BOS|20480.0| 1938.0|     M|     TK|428558285.0|   81|      B2|\n",
      "| 18.0|2016.0|   1.0|    BOS|20480.0| 1946.0|     F|     TK|428561085.0|   81|      B2|\n",
      "| 20.0|2016.0|   1.0|    CHI|20473.0| 1988.0|     M|     BA|401779785.0|  295|      B2|\n",
      "+-----+------+------+-------+-------+-------+------+-------+-----------+-----+--------+\n",
      "only showing top 10 rows\n",
      "\n"
     ]
    }
   ],
   "source": [
    "immig_df.show(n=10)"
   ]
  },
  {
   "cell_type": "code",
   "execution_count": 36,
   "metadata": {
    "editable": true
   },
   "outputs": [
    {
     "data": {
      "text/plain": [
       "(2847924, 11)"
      ]
     },
     "execution_count": 36,
     "metadata": {},
     "output_type": "execute_result"
    }
   ],
   "source": [
    "(immig_df.count(), len(immig_df.columns))"
   ]
  },
  {
   "cell_type": "code",
   "execution_count": 37,
   "metadata": {
    "editable": true
   },
   "outputs": [],
   "source": [
    "# quality check for empty dataframe\n",
    "empty_check = immig_df.count() > 0"
   ]
  },
  {
   "cell_type": "code",
   "execution_count": 38,
   "metadata": {
    "editable": true
   },
   "outputs": [
    {
     "name": "stdout",
     "output_type": "stream",
     "text": [
      "root\n",
      " |-- cicid: double (nullable = true)\n",
      " |-- i94yr: double (nullable = true)\n",
      " |-- i94mon: double (nullable = true)\n",
      " |-- i94port: string (nullable = true)\n",
      " |-- arrdate: double (nullable = true)\n",
      " |-- biryear: double (nullable = true)\n",
      " |-- gender: string (nullable = true)\n",
      " |-- airline: string (nullable = true)\n",
      " |-- admnum: string (nullable = true)\n",
      " |-- fltno: string (nullable = true)\n",
      " |-- visatype: string (nullable = true)\n",
      "\n"
     ]
    }
   ],
   "source": [
    "immig_df.printSchema()"
   ]
  },
  {
   "cell_type": "markdown",
   "metadata": {
    "editable": true
   },
   "source": [
    "#### Data Cleaning"
   ]
  },
  {
   "cell_type": "markdown",
   "metadata": {
    "editable": true
   },
   "source": [
    "Based on the data exploration and future concerns, following data cleaning steps were implemented:\n",
    "\n",
    "1. Removing Null values in airports data.\n",
    "\n",
    "2. Dropping airline data rows with Null or empty iata codes.\n",
    "\n",
    "3. Dropping private flights row from airlines.\n",
    "\n",
    "4. Dropping any row of immigration DataFrame where important fields are Null.\n",
    "\n",
    "5. Dropping any rows of immigration DataFrame with duplicate CICID.\n",
    "\n",
    "6. Filling Missing/Null values of gender in immigration DataFrame with \"U\" (unknown).\n",
    "\n",
    "7. Filling Missing airline values with \"Unknown\"."
   ]
  },
  {
   "cell_type": "code",
   "execution_count": 39,
   "metadata": {
    "editable": true
   },
   "outputs": [],
   "source": [
    "# Performing cleaning tasks here"
   ]
  },
  {
   "cell_type": "code",
   "execution_count": 40,
   "metadata": {
    "editable": true
   },
   "outputs": [
    {
     "data": {
      "text/html": [
       "<div>\n",
       "<style scoped>\n",
       "    .dataframe tbody tr th:only-of-type {\n",
       "        vertical-align: middle;\n",
       "    }\n",
       "\n",
       "    .dataframe tbody tr th {\n",
       "        vertical-align: top;\n",
       "    }\n",
       "\n",
       "    .dataframe thead th {\n",
       "        text-align: right;\n",
       "    }\n",
       "</style>\n",
       "<table border=\"1\" class=\"dataframe\">\n",
       "  <thead>\n",
       "    <tr style=\"text-align: right;\">\n",
       "      <th></th>\n",
       "      <th>name</th>\n",
       "      <th>type</th>\n",
       "      <th>municipality</th>\n",
       "      <th>local_code</th>\n",
       "    </tr>\n",
       "  </thead>\n",
       "  <tbody>\n",
       "    <tr>\n",
       "      <th>49100</th>\n",
       "      <td>Jim's Private Airport</td>\n",
       "      <td>medium_airport</td>\n",
       "      <td>Conyers</td>\n",
       "      <td>NaN</td>\n",
       "    </tr>\n",
       "  </tbody>\n",
       "</table>\n",
       "</div>"
      ],
      "text/plain": [
       "                        name            type municipality local_code\n",
       "49100  Jim's Private Airport  medium_airport      Conyers        NaN"
      ]
     },
     "execution_count": 40,
     "metadata": {},
     "output_type": "execute_result"
    }
   ],
   "source": [
    "# checking nan code row\n",
    "gaports[gaports['local_code'].isna()]"
   ]
  },
  {
   "cell_type": "code",
   "execution_count": 41,
   "metadata": {
    "editable": true
   },
   "outputs": [],
   "source": [
    "# removing row with NaN code\n",
    "gaports = gaports[gaports['local_code'].notna()]"
   ]
  },
  {
   "cell_type": "code",
   "execution_count": 42,
   "metadata": {
    "editable": true
   },
   "outputs": [
    {
     "data": {
      "text/html": [
       "<div>\n",
       "<style scoped>\n",
       "    .dataframe tbody tr th:only-of-type {\n",
       "        vertical-align: middle;\n",
       "    }\n",
       "\n",
       "    .dataframe tbody tr th {\n",
       "        vertical-align: top;\n",
       "    }\n",
       "\n",
       "    .dataframe thead th {\n",
       "        text-align: right;\n",
       "    }\n",
       "</style>\n",
       "<table border=\"1\" class=\"dataframe\">\n",
       "  <thead>\n",
       "    <tr style=\"text-align: right;\">\n",
       "      <th></th>\n",
       "      <th>name</th>\n",
       "      <th>type</th>\n",
       "      <th>municipality</th>\n",
       "      <th>local_code</th>\n",
       "    </tr>\n",
       "  </thead>\n",
       "  <tbody>\n",
       "    <tr>\n",
       "      <th>26009</th>\n",
       "      <td>Southwest Georgia Regional Airport</td>\n",
       "      <td>medium_airport</td>\n",
       "      <td>Albany</td>\n",
       "      <td>ABY</td>\n",
       "    </tr>\n",
       "    <tr>\n",
       "      <th>26043</th>\n",
       "      <td>Augusta Regional At Bush Field</td>\n",
       "      <td>large_airport</td>\n",
       "      <td>Augusta</td>\n",
       "      <td>AGS</td>\n",
       "    </tr>\n",
       "    <tr>\n",
       "      <th>26047</th>\n",
       "      <td>Athens Ben Epps Airport</td>\n",
       "      <td>medium_airport</td>\n",
       "      <td>Athens</td>\n",
       "      <td>AHN</td>\n",
       "    </tr>\n",
       "    <tr>\n",
       "      <th>26128</th>\n",
       "      <td>Hartsfield Jackson Atlanta International Airport</td>\n",
       "      <td>large_airport</td>\n",
       "      <td>Atlanta</td>\n",
       "      <td>ATL</td>\n",
       "    </tr>\n",
       "    <tr>\n",
       "      <th>26261</th>\n",
       "      <td>Brunswick Golden Isles Airport</td>\n",
       "      <td>medium_airport</td>\n",
       "      <td>Brunswick</td>\n",
       "      <td>BQK</td>\n",
       "    </tr>\n",
       "  </tbody>\n",
       "</table>\n",
       "</div>"
      ],
      "text/plain": [
       "                                                   name            type  \\\n",
       "26009                Southwest Georgia Regional Airport  medium_airport   \n",
       "26043                    Augusta Regional At Bush Field   large_airport   \n",
       "26047                           Athens Ben Epps Airport  medium_airport   \n",
       "26128  Hartsfield Jackson Atlanta International Airport   large_airport   \n",
       "26261                    Brunswick Golden Isles Airport  medium_airport   \n",
       "\n",
       "      municipality local_code  \n",
       "26009       Albany        ABY  \n",
       "26043      Augusta        AGS  \n",
       "26047       Athens        AHN  \n",
       "26128      Atlanta        ATL  \n",
       "26261    Brunswick        BQK  "
      ]
     },
     "execution_count": 42,
     "metadata": {},
     "output_type": "execute_result"
    }
   ],
   "source": [
    "gaports.head()"
   ]
  },
  {
   "cell_type": "code",
   "execution_count": 43,
   "metadata": {
    "editable": true
   },
   "outputs": [
    {
     "data": {
      "text/plain": [
       "(1178, 3)"
      ]
     },
     "execution_count": 43,
     "metadata": {},
     "output_type": "execute_result"
    }
   ],
   "source": [
    "airlines_df.shape"
   ]
  },
  {
   "cell_type": "code",
   "execution_count": 44,
   "metadata": {
    "editable": true
   },
   "outputs": [],
   "source": [
    "# removing airline rows with null or empty iata codes\n",
    "airlines_df = airlines_df[  (airlines_df['iata'].notna()) & (airlines_df['iata']!='')  ]"
   ]
  },
  {
   "cell_type": "code",
   "execution_count": 45,
   "metadata": {
    "editable": true
   },
   "outputs": [],
   "source": [
    "# removing airline rows with null or empty names\n",
    "airlines_df = airlines_df[  (airlines_df['name'].notna()) & (airlines_df['name']!='')  ]"
   ]
  },
  {
   "cell_type": "code",
   "execution_count": 46,
   "metadata": {
    "editable": true
   },
   "outputs": [
    {
     "data": {
      "text/plain": [
       "(974, 3)"
      ]
     },
     "execution_count": 46,
     "metadata": {},
     "output_type": "execute_result"
    }
   ],
   "source": [
    "airlines_df.shape"
   ]
  },
  {
   "cell_type": "code",
   "execution_count": 47,
   "metadata": {
    "editable": true
   },
   "outputs": [],
   "source": [
    "airlines_df.columns = ['Airline_IATA', 'Airline_Name', 'Airline_Country']"
   ]
  },
  {
   "cell_type": "code",
   "execution_count": 48,
   "metadata": {
    "editable": true
   },
   "outputs": [
    {
     "data": {
      "text/html": [
       "<div>\n",
       "<style scoped>\n",
       "    .dataframe tbody tr th:only-of-type {\n",
       "        vertical-align: middle;\n",
       "    }\n",
       "\n",
       "    .dataframe tbody tr th {\n",
       "        vertical-align: top;\n",
       "    }\n",
       "\n",
       "    .dataframe thead th {\n",
       "        text-align: right;\n",
       "    }\n",
       "</style>\n",
       "<table border=\"1\" class=\"dataframe\">\n",
       "  <thead>\n",
       "    <tr style=\"text-align: right;\">\n",
       "      <th></th>\n",
       "      <th>Airline_IATA</th>\n",
       "      <th>Airline_Name</th>\n",
       "      <th>Airline_Country</th>\n",
       "    </tr>\n",
       "  </thead>\n",
       "  <tbody>\n",
       "    <tr>\n",
       "      <th>0</th>\n",
       "      <td>-</td>\n",
       "      <td>Private flight</td>\n",
       "      <td></td>\n",
       "    </tr>\n",
       "    <tr>\n",
       "      <th>2</th>\n",
       "      <td>1T</td>\n",
       "      <td>1Time Airline</td>\n",
       "      <td>South Africa</td>\n",
       "    </tr>\n",
       "    <tr>\n",
       "      <th>9</th>\n",
       "      <td>Q5</td>\n",
       "      <td>40-Mile Air</td>\n",
       "      <td>United States</td>\n",
       "    </tr>\n",
       "    <tr>\n",
       "      <th>12</th>\n",
       "      <td>AN</td>\n",
       "      <td>Ansett Australia</td>\n",
       "      <td>Australia</td>\n",
       "    </tr>\n",
       "    <tr>\n",
       "      <th>13</th>\n",
       "      <td>1B</td>\n",
       "      <td>Abacus International</td>\n",
       "      <td>Singapore</td>\n",
       "    </tr>\n",
       "  </tbody>\n",
       "</table>\n",
       "</div>"
      ],
      "text/plain": [
       "   Airline_IATA          Airline_Name Airline_Country\n",
       "0             -        Private flight                \n",
       "2            1T         1Time Airline    South Africa\n",
       "9            Q5           40-Mile Air   United States\n",
       "12           AN      Ansett Australia       Australia\n",
       "13           1B  Abacus International       Singapore"
      ]
     },
     "execution_count": 48,
     "metadata": {},
     "output_type": "execute_result"
    }
   ],
   "source": [
    "airlines_df.head(5)"
   ]
  },
  {
   "cell_type": "code",
   "execution_count": 49,
   "metadata": {
    "editable": true
   },
   "outputs": [],
   "source": [
    "# removing first row of private flight\n",
    "airlines_df.drop([airlines_df.index[0]],inplace=True)"
   ]
  },
  {
   "cell_type": "code",
   "execution_count": 50,
   "metadata": {
    "editable": true
   },
   "outputs": [],
   "source": [
    "# removing all rows where important fields are null\n",
    "immig_df = immig_df.filter(immig_df.visatype.isNotNull())\n",
    "immig_df = immig_df.filter(immig_df.i94port.isNotNull())\n",
    "immig_df = immig_df.filter(immig_df.i94yr.isNotNull())\n",
    "immig_df = immig_df.filter(immig_df.i94mon.isNotNull())\n",
    "immig_df = immig_df.filter(immig_df.admnum.isNotNull())"
   ]
  },
  {
   "cell_type": "code",
   "execution_count": 51,
   "metadata": {
    "editable": true
   },
   "outputs": [
    {
     "data": {
      "text/plain": [
       "2847924"
      ]
     },
     "execution_count": 51,
     "metadata": {},
     "output_type": "execute_result"
    }
   ],
   "source": [
    "immig_df.count()"
   ]
  },
  {
   "cell_type": "code",
   "execution_count": 52,
   "metadata": {
    "editable": true
   },
   "outputs": [],
   "source": [
    "# filtering to keep only E1, E2 and E3 visa type rows\n",
    "immig_df = immig_df.filter( (immig_df.visatype == \"E1\") | (immig_df.visatype  == \"E2\") | (immig_df.visatype  == \"E3\") )"
   ]
  },
  {
   "cell_type": "code",
   "execution_count": 53,
   "metadata": {
    "editable": true
   },
   "outputs": [
    {
     "name": "stdout",
     "output_type": "stream",
     "text": [
      "+-----+------+------+-------+-------+-------+------+-------+-----------+-----+--------+\n",
      "|cicid| i94yr|i94mon|i94port|arrdate|biryear|gender|airline|     admnum|fltno|visatype|\n",
      "+-----+------+------+-------+-------+-------+------+-------+-----------+-----+--------+\n",
      "|136.0|2016.0|   1.0|    CHI|20463.0| 1981.0|     M|     LH|331311985.0|  430|      E1|\n",
      "|170.0|2016.0|   1.0|    LOS|20478.0| 1991.0|     M|     LH|421880385.0|  452|      E2|\n",
      "|208.0|2016.0|   1.0|    NYC|20456.0| 1986.0|     M|     SU|294869885.0|  102|      E2|\n",
      "|294.0|2016.0|   1.0|    HOU|20459.0| 1976.0|     M|     UA|310484285.0| 1478|      E2|\n",
      "|309.0|2016.0|   1.0|    HOU|20461.0| 1946.0|     M|     UA|321556785.0|   47|      E2|\n",
      "|328.0|2016.0|   1.0|    NEW|20474.0| 1978.0|     M|     LH|404250085.0|  402|      E2|\n",
      "|350.0|2016.0|   1.0|    WAS|20471.0| 1986.0|     M|     LH|390833885.0|  418|      E2|\n",
      "|352.0|2016.0|   1.0|    WPB|20484.0| 1952.0|     F|    *GA|443178185.0|N831B|      E2|\n",
      "|434.0|2016.0|   1.0|    HOU|20458.0| 1988.0|     M|    VIV|303383885.0| 2950|      E2|\n",
      "|457.0|2016.0|   1.0|    MIA|20455.0| 1982.0|     F|     TB|289311085.0|  617|      E2|\n",
      "+-----+------+------+-------+-------+-------+------+-------+-----------+-----+--------+\n",
      "only showing top 10 rows\n",
      "\n"
     ]
    }
   ],
   "source": [
    "immig_df.show(n=10)"
   ]
  },
  {
   "cell_type": "code",
   "execution_count": 54,
   "metadata": {
    "editable": true
   },
   "outputs": [
    {
     "data": {
      "text/plain": [
       "34195"
      ]
     },
     "execution_count": 54,
     "metadata": {},
     "output_type": "execute_result"
    }
   ],
   "source": [
    "immig_df.count()"
   ]
  },
  {
   "cell_type": "code",
   "execution_count": 55,
   "metadata": {
    "editable": true
   },
   "outputs": [],
   "source": [
    "ga_portcodes = list(gaports.local_code.unique())"
   ]
  },
  {
   "cell_type": "code",
   "execution_count": 56,
   "metadata": {
    "editable": true
   },
   "outputs": [
    {
     "name": "stdout",
     "output_type": "stream",
     "text": [
      "['ABY', 'AGS', 'AHN', 'ATL', 'BQK', 'CSG', 'DNL', 'FTY', 'LSF', 'MCN', 'MGE', 'PDK', 'RMG', 'RYY', 'SAV', 'SSI', 'SVN', 'VAD', 'VLD', 'WRB']\n"
     ]
    }
   ],
   "source": [
    "print(ga_portcodes)"
   ]
  },
  {
   "cell_type": "code",
   "execution_count": 57,
   "metadata": {
    "editable": true
   },
   "outputs": [],
   "source": [
    "# filtering to keep only rows with Georgia airports\n",
    "immig_df = immig_df.filter( immig_df.i94port.isin(ga_portcodes) )"
   ]
  },
  {
   "cell_type": "code",
   "execution_count": 58,
   "metadata": {
    "editable": true
   },
   "outputs": [
    {
     "data": {
      "text/plain": [
       "2200"
      ]
     },
     "execution_count": 58,
     "metadata": {},
     "output_type": "execute_result"
    }
   ],
   "source": [
    "immig_df.count()"
   ]
  },
  {
   "cell_type": "code",
   "execution_count": 59,
   "metadata": {
    "editable": true
   },
   "outputs": [
    {
     "name": "stdout",
     "output_type": "stream",
     "text": [
      "+-------+------+------+-------+-------+-------+------+-------+-----------+-----+--------+\n",
      "|  cicid| i94yr|i94mon|i94port|arrdate|biryear|gender|airline|     admnum|fltno|visatype|\n",
      "+-------+------+------+-------+-------+-------+------+-------+-----------+-----+--------+\n",
      "| 2485.0|2016.0|   1.0|    ATL|20469.0| 1968.0|     M|     DL|381514085.0|  368|      E2|\n",
      "| 4394.0|2016.0|   1.0|    ATL|20475.0| 1968.0|     M|     DL|410773085.0|   85|      E2|\n",
      "| 4395.0|2016.0|   1.0|    ATL|20476.0| 1959.0|     M|     DL|411482685.0|  104|      E2|\n",
      "| 8376.0|2016.0|   1.0|    ATL|20477.0| 1977.0|     M|     KL|417874585.0|  621|      E2|\n",
      "|17762.0|2016.0|   1.0|    ATL|20460.0| 1963.0|     M|     DL|315553485.0|  698|      E2|\n",
      "|21354.0|2016.0|   1.0|    ATL|20458.0| 1948.0|     M|     DL|304807385.0|   29|      E2|\n",
      "|21384.0|2016.0|   1.0|    ATL|20470.0| 1961.0|     M|     BA|386182685.0|  227|      E2|\n",
      "|23382.0|2016.0|   1.0|    ATL|20464.0| 1966.0|     M|     LH|338377585.0|  444|      E2|\n",
      "|28676.0|2016.0|   1.0|    ATL|20460.0| 1978.0|     M|     DL|314893485.0|  296|      E2|\n",
      "|28680.0|2016.0|   1.0|    ATL|20463.0| 1964.0|     M|     DL|332707085.0|  296|      E2|\n",
      "+-------+------+------+-------+-------+-------+------+-------+-----------+-----+--------+\n",
      "only showing top 10 rows\n",
      "\n"
     ]
    }
   ],
   "source": [
    "immig_df.show(n=10)"
   ]
  },
  {
   "cell_type": "code",
   "execution_count": 60,
   "metadata": {
    "editable": true
   },
   "outputs": [],
   "source": [
    "# dropping duplicate cicid if any\n",
    "immig_df = immig_df.dropDuplicates([\"cicid\"])"
   ]
  },
  {
   "cell_type": "code",
   "execution_count": 61,
   "metadata": {
    "editable": true
   },
   "outputs": [
    {
     "data": {
      "text/plain": [
       "2200"
      ]
     },
     "execution_count": 61,
     "metadata": {},
     "output_type": "execute_result"
    }
   ],
   "source": [
    "immig_df.count()"
   ]
  },
  {
   "cell_type": "code",
   "execution_count": 62,
   "metadata": {
    "editable": true
   },
   "outputs": [],
   "source": [
    "immig_df = immig_df.withColumn(\"i94yr\", col(\"i94yr\").cast(IntegerType()) )\n",
    "immig_df = immig_df.withColumn(\"i94mon\", col(\"i94mon\").cast(IntegerType()) )"
   ]
  },
  {
   "cell_type": "code",
   "execution_count": 63,
   "metadata": {
    "editable": true
   },
   "outputs": [],
   "source": [
    "# quality check for date\n",
    "date_check = ( immig_df.filter(  (immig_df.i94yr != cur_year) | (immig_df.i94mon != cur_month) )  ).count() == 0"
   ]
  },
  {
   "cell_type": "code",
   "execution_count": 64,
   "metadata": {
    "editable": true
   },
   "outputs": [],
   "source": [
    "# filling missing/NaN values of gender with U (unknown)\n",
    "immig_df = immig_df.na.fill(value='U',subset=[\"gender\"])"
   ]
  },
  {
   "cell_type": "code",
   "execution_count": 65,
   "metadata": {
    "editable": true
   },
   "outputs": [],
   "source": [
    "# filling missing airline values with unknown\n",
    "immig_df = immig_df.na.fill(value='Unknown',subset=[\"airline\"])"
   ]
  },
  {
   "cell_type": "code",
   "execution_count": 66,
   "metadata": {
    "editable": true
   },
   "outputs": [
    {
     "data": {
      "text/plain": [
       "2200"
      ]
     },
     "execution_count": 66,
     "metadata": {},
     "output_type": "execute_result"
    }
   ],
   "source": [
    "immig_df.count()"
   ]
  },
  {
   "cell_type": "markdown",
   "metadata": {
    "editable": true
   },
   "source": [
    "### Step 3: Define the Data Model\n",
    "#### 3.1 Conceptual Data Model\n",
    "Map out the conceptual data model and explain why you chose that model\n",
    "\n",
    "#### 3.2 Mapping Out Data Pipelines\n",
    "List the steps necessary to pipeline the data into the chosen data model"
   ]
  },
  {
   "cell_type": "markdown",
   "metadata": {
    "editable": true
   },
   "source": [
    "#### Data Model:\n",
    "\n",
    "For modeling the data a Relational Database was used in the form of PosgreSQL.\n",
    "Relational Database was chosen due to several factors including: Flexibility and ease of use, ease of Joins and aggregations needed for the project, smaller data volume, low availability requirements and well-defined tabular schema. \n",
    "\n",
    "The objective for this project is performing analytics and BI, so it requires an OLAP system. The data is loaded to create a data warehouse to support that.\n",
    "\n",
    "The data is denormalized for improving the speed and ease of doing analytics. It increases the performance of Joins and heavier read operations needed for the task. Write operations are rare and usually done only once a month for small amount of time. \n",
    "\n",
    "Dimensional Modeling was done for this project and dimension tables and fact table were created.\n",
    "The fact table contains the immigration events data, where each row is an immigration. the dimension tables include tables related to locations, time, demographics and airline etc. They enable getting aggregations, information and analytics on the fact table through Joins. They also provide information about the available categories. The time dimensions are also being used for tracking time periods. \n",
    "\n",
    "The data warehouse will have historical data of immigrations, represented as those tables.\n",
    "The schema of the data marts for this data warehouse was chosen as a Star Schema due to several reasons including: being simple, providing denormalization, simplifying the expected queries, making aggregations faster and less need for normalization in requirement.\n",
    "\n",
    "The tables and fields were designed according to the business requirement and dimensional modeling. \n",
    "The dimension tables are following:\n",
    "\n",
    "airports, visatypes, agegroups, genders, municipalities, years, months, monthlytimes, airlines\n",
    "\n",
    "The fact table is immigrationfacts.\n",
    "\n",
    "The complete data dictionary for the data model is provided in section 4.3"
   ]
  },
  {
   "cell_type": "markdown",
   "metadata": {
    "editable": true
   },
   "source": [
    "#### Data Pipeline Steps:\n",
    "\n",
    "Following steps are carried out in the pipeline:\n",
    "\n",
    "1. Data for current month is converted from SAS to CSV format and saved. Current month is determined using time tables, except for first time run, and time tables are updated.\n",
    "\n",
    "2. Loading the dimensions data from csvs and json, and cleaning it, if it's first time run. For next time runs, some data is loaded from the databases.\n",
    "\n",
    "3. Extracting immigration data for current date in PySpark DataFrame according to schema and cleaning it.\n",
    "\n",
    "4. Filtering immigration data to get the smaller required data of Georgia employee immigrations.\n",
    "\n",
    "5. Extracting Day of Month information from numeric SAS Date Format.\n",
    "\n",
    "6. Age is derived from Birth Year and also classified into Age Group.\n",
    "\n",
    "7. Immigration DataFrame is Joined with airports data.\n",
    "\n",
    "8. Immigration DataFrame is Joined with airlines data.\n",
    "\n",
    "9. Creating database and tables if it's first run and inserting data into dimension tables. \n",
    "\n",
    "10. Inserting the data into fact table after checks.\n",
    "\n",
    "11. Additional quality checks."
   ]
  },
  {
   "cell_type": "markdown",
   "metadata": {
    "editable": true
   },
   "source": [
    "Following are the steps for running and testing the data pipeline:\n",
    "\n",
    "1. Make sure that PosgreSQL, Psycopg, Pandas and Pyspark are installed.\n",
    "\n",
    "2. Run complete \"Capstone_Project_Imroze.ipynb\" Jupyter Notebook.\n",
    "\n",
    "3. Run \"etl.py\" multiple times to do ETL on data for next months. The SAS data for full year 2016 is available in the workspace provided for project. \n",
    "\n",
    "4. An alternative to step 3 is installing AirFlow and running \"dags/airflow_pipeline.py\" and enabling dag through AirFlow UI. It is scheduled to run monthly, but can be scheduled to run after 15 minutes for testing, by replacing line 349 with commented line 348.\n",
    "\n",
    "5. Run \"test.ipynb\" Jupyter notebook to view the results, data visualization and sample queries. It can be run anytime after first run of \"Capstone_Project_Imroze.ipynb\". "
   ]
  },
  {
   "cell_type": "markdown",
   "metadata": {
    "editable": true
   },
   "source": [
    "### Step 4: Run Pipelines to Model the Data \n",
    "#### 4.1 Create the data model\n",
    "Build the data pipelines to create the data model."
   ]
  },
  {
   "cell_type": "code",
   "execution_count": 67,
   "metadata": {
    "editable": true
   },
   "outputs": [],
   "source": [
    "cur, conn = create_database()\n",
    "drop_tables(cur, conn)\n",
    "create_tables(cur, conn)\n",
    "conn.close()"
   ]
  },
  {
   "cell_type": "code",
   "execution_count": 68,
   "metadata": {
    "editable": true
   },
   "outputs": [],
   "source": [
    "# Write code here\n",
    "\n",
    "# user defined function (udf) to convert SAS date to day of month integer\n",
    "@udf(returnType=IntegerType())\n",
    "def sasdate_day(date):\n",
    "    pd_timestamp = pd.to_timedelta(date,unit='D')+pd.Timestamp('1960-1-1')\n",
    "    return int( pd_timestamp.strftime('%d') )"
   ]
  },
  {
   "cell_type": "code",
   "execution_count": 69,
   "metadata": {
    "editable": true
   },
   "outputs": [],
   "source": [
    "immig_df = immig_df.withColumn(\"day\", sasdate_day(col(\"arrdate\")))"
   ]
  },
  {
   "cell_type": "code",
   "execution_count": 70,
   "metadata": {
    "editable": true
   },
   "outputs": [
    {
     "name": "stdout",
     "output_type": "stream",
     "text": [
      "+---------+-----+------+-------+-------+-------+------+-------+-------------+-----+--------+---+\n",
      "|    cicid|i94yr|i94mon|i94port|arrdate|biryear|gender|airline|       admnum|fltno|visatype|day|\n",
      "+---------+-----+------+-------+-------+-------+------+-------+-------------+-----+--------+---+\n",
      "| 180973.0| 2016|     1|    ATL|20454.0| 1967.0|     M|     LH|84156749530.0|00444|      E2|  1|\n",
      "| 190508.0| 2016|     1|    ATL|20454.0| 1954.0|     M|     DL|84101047330.0|00146|      E2|  1|\n",
      "| 736433.0| 2016|     1|    ATL|20457.0| 1985.0|     M|     VS|84437768330.0|00109|      E2|  4|\n",
      "| 930673.0| 2016|     1|    ATL|20458.0| 1959.0|     M|     DL|84561130630.0|00356|      E2|  5|\n",
      "|1117816.0| 2016|     1|    ATL|20459.0| 1958.0|     M|     KL|84659434930.0|00621|      E2|  6|\n",
      "|2144971.0| 2016|     1|    ATL|20464.0| 1990.0|     M|     DL|85150780030.0|00296|      E2| 11|\n",
      "|2317313.0| 2016|     1|    ATL|20465.0| 1960.0|     F|     DL|85228115630.0|00117|      E2| 12|\n",
      "|3333491.0| 2016|     1|    ATL|20471.0| 1965.0|     M|     DL|85804591730.0|00117|      E2| 18|\n",
      "|5719159.0| 2016|     1|    ATL|20483.0| 1964.0|     F|     DL|86889375030.0|00315|      E2| 30|\n",
      "| 354303.0| 2016|     1|    ATL|20455.0| 1966.0|     M|     DL|84259472030.0|00793|      E1|  2|\n",
      "+---------+-----+------+-------+-------+-------+------+-------+-------------+-----+--------+---+\n",
      "only showing top 10 rows\n",
      "\n"
     ]
    }
   ],
   "source": [
    "immig_df.show(n=10)"
   ]
  },
  {
   "cell_type": "code",
   "execution_count": 71,
   "metadata": {
    "editable": true
   },
   "outputs": [],
   "source": [
    "immig_df = immig_df.drop(\"arrdate\")"
   ]
  },
  {
   "cell_type": "code",
   "execution_count": 72,
   "metadata": {
    "editable": true
   },
   "outputs": [],
   "source": [
    "# user defined function (udf) to remove decimal in admnum string\n",
    "@udf(returnType=StringType())\n",
    "def parse_admnum(admnum):\n",
    "    if '.' in admnum:\n",
    "        return admnum[ : admnum.find('.') ]\n",
    "    else:\n",
    "        return admnum"
   ]
  },
  {
   "cell_type": "code",
   "execution_count": 73,
   "metadata": {
    "editable": true
   },
   "outputs": [],
   "source": [
    "immig_df = immig_df.withColumn(\"cicid\", col(\"cicid\").cast(IntegerType()) )\n",
    "immig_df = immig_df.withColumn(\"biryear\", col(\"biryear\").cast(IntegerType()) )\n",
    "immig_df = immig_df.withColumn(\"admnum\", parse_admnum(col(\"admnum\")) )"
   ]
  },
  {
   "cell_type": "code",
   "execution_count": 74,
   "metadata": {
    "editable": true
   },
   "outputs": [],
   "source": [
    "immig_df = immig_df.withColumn(\"age\", (cur_year - col(\"biryear\")) )"
   ]
  },
  {
   "cell_type": "code",
   "execution_count": 75,
   "metadata": {
    "editable": true
   },
   "outputs": [
    {
     "name": "stdout",
     "output_type": "stream",
     "text": [
      "+-------+-----+------+-------+-------+------+-------+-----------+-----+--------+---+---+\n",
      "|  cicid|i94yr|i94mon|i94port|biryear|gender|airline|     admnum|fltno|visatype|day|age|\n",
      "+-------+-----+------+-------+-------+------+-------+-----------+-----+--------+---+---+\n",
      "| 180973| 2016|     1|    ATL|   1967|     M|     LH|84156749530|00444|      E2|  1| 49|\n",
      "| 190508| 2016|     1|    ATL|   1954|     M|     DL|84101047330|00146|      E2|  1| 62|\n",
      "| 736433| 2016|     1|    ATL|   1985|     M|     VS|84437768330|00109|      E2|  4| 31|\n",
      "| 930673| 2016|     1|    ATL|   1959|     M|     DL|84561130630|00356|      E2|  5| 57|\n",
      "|1117816| 2016|     1|    ATL|   1958|     M|     KL|84659434930|00621|      E2|  6| 58|\n",
      "|2144971| 2016|     1|    ATL|   1990|     M|     DL|85150780030|00296|      E2| 11| 26|\n",
      "|2317313| 2016|     1|    ATL|   1960|     F|     DL|85228115630|00117|      E2| 12| 56|\n",
      "|3333491| 2016|     1|    ATL|   1965|     M|     DL|85804591730|00117|      E2| 18| 51|\n",
      "|5719159| 2016|     1|    ATL|   1964|     F|     DL|86889375030|00315|      E2| 30| 52|\n",
      "| 354303| 2016|     1|    ATL|   1966|     M|     DL|84259472030|00793|      E1|  2| 50|\n",
      "+-------+-----+------+-------+-------+------+-------+-----------+-----+--------+---+---+\n",
      "only showing top 10 rows\n",
      "\n"
     ]
    }
   ],
   "source": [
    "immig_df.show(n=10)"
   ]
  },
  {
   "cell_type": "code",
   "execution_count": 76,
   "metadata": {
    "editable": true
   },
   "outputs": [],
   "source": [
    "# user defined function (udf) to convert age to 5 age-groups\n",
    "@udf(returnType=IntegerType())\n",
    "def get_agegroup(age):\n",
    "    if age <= 25:\n",
    "        return 1\n",
    "    if age > 25 and age <= 35:\n",
    "        return 2\n",
    "    if age > 35 and age <= 45:\n",
    "        return 3\n",
    "    if age > 45 and age <= 59:\n",
    "        return 4\n",
    "    if age >= 60:\n",
    "        return 5\n",
    "    return 0"
   ]
  },
  {
   "cell_type": "code",
   "execution_count": 77,
   "metadata": {
    "editable": true
   },
   "outputs": [],
   "source": [
    "immig_df = immig_df.withColumn(\"agegroup\", get_agegroup(col(\"age\")))"
   ]
  },
  {
   "cell_type": "code",
   "execution_count": 78,
   "metadata": {
    "editable": true
   },
   "outputs": [
    {
     "name": "stdout",
     "output_type": "stream",
     "text": [
      "+-------+-----+------+-------+-------+------+-------+-----------+-----+--------+---+---+--------+\n",
      "|  cicid|i94yr|i94mon|i94port|biryear|gender|airline|     admnum|fltno|visatype|day|age|agegroup|\n",
      "+-------+-----+------+-------+-------+------+-------+-----------+-----+--------+---+---+--------+\n",
      "| 180973| 2016|     1|    ATL|   1967|     M|     LH|84156749530|00444|      E2|  1| 49|       4|\n",
      "| 190508| 2016|     1|    ATL|   1954|     M|     DL|84101047330|00146|      E2|  1| 62|       5|\n",
      "| 736433| 2016|     1|    ATL|   1985|     M|     VS|84437768330|00109|      E2|  4| 31|       2|\n",
      "| 930673| 2016|     1|    ATL|   1959|     M|     DL|84561130630|00356|      E2|  5| 57|       4|\n",
      "|1117816| 2016|     1|    ATL|   1958|     M|     KL|84659434930|00621|      E2|  6| 58|       4|\n",
      "|2144971| 2016|     1|    ATL|   1990|     M|     DL|85150780030|00296|      E2| 11| 26|       2|\n",
      "|2317313| 2016|     1|    ATL|   1960|     F|     DL|85228115630|00117|      E2| 12| 56|       4|\n",
      "|3333491| 2016|     1|    ATL|   1965|     M|     DL|85804591730|00117|      E2| 18| 51|       4|\n",
      "|5719159| 2016|     1|    ATL|   1964|     F|     DL|86889375030|00315|      E2| 30| 52|       4|\n",
      "| 354303| 2016|     1|    ATL|   1966|     M|     DL|84259472030|00793|      E1|  2| 50|       4|\n",
      "+-------+-----+------+-------+-------+------+-------+-----------+-----+--------+---+---+--------+\n",
      "only showing top 10 rows\n",
      "\n"
     ]
    }
   ],
   "source": [
    "immig_df.show(n=10)"
   ]
  },
  {
   "cell_type": "code",
   "execution_count": 79,
   "metadata": {
    "editable": true
   },
   "outputs": [],
   "source": [
    "immig_df = immig_df.withColumn(\"month_year\", lit(str(cur_month)+'_'+str(cur_year))  )"
   ]
  },
  {
   "cell_type": "code",
   "execution_count": 80,
   "metadata": {
    "editable": true
   },
   "outputs": [
    {
     "name": "stdout",
     "output_type": "stream",
     "text": [
      "+-------+-----+------+-------+-------+------+-------+-----------+-----+--------+---+---+--------+----------+\n",
      "|  cicid|i94yr|i94mon|i94port|biryear|gender|airline|     admnum|fltno|visatype|day|age|agegroup|month_year|\n",
      "+-------+-----+------+-------+-------+------+-------+-----------+-----+--------+---+---+--------+----------+\n",
      "| 180973| 2016|     1|    ATL|   1967|     M|     LH|84156749530|00444|      E2|  1| 49|       4|    1_2016|\n",
      "| 190508| 2016|     1|    ATL|   1954|     M|     DL|84101047330|00146|      E2|  1| 62|       5|    1_2016|\n",
      "| 736433| 2016|     1|    ATL|   1985|     M|     VS|84437768330|00109|      E2|  4| 31|       2|    1_2016|\n",
      "| 930673| 2016|     1|    ATL|   1959|     M|     DL|84561130630|00356|      E2|  5| 57|       4|    1_2016|\n",
      "|1117816| 2016|     1|    ATL|   1958|     M|     KL|84659434930|00621|      E2|  6| 58|       4|    1_2016|\n",
      "|2144971| 2016|     1|    ATL|   1990|     M|     DL|85150780030|00296|      E2| 11| 26|       2|    1_2016|\n",
      "|2317313| 2016|     1|    ATL|   1960|     F|     DL|85228115630|00117|      E2| 12| 56|       4|    1_2016|\n",
      "|3333491| 2016|     1|    ATL|   1965|     M|     DL|85804591730|00117|      E2| 18| 51|       4|    1_2016|\n",
      "|5719159| 2016|     1|    ATL|   1964|     F|     DL|86889375030|00315|      E2| 30| 52|       4|    1_2016|\n",
      "| 354303| 2016|     1|    ATL|   1966|     M|     DL|84259472030|00793|      E1|  2| 50|       4|    1_2016|\n",
      "+-------+-----+------+-------+-------+------+-------+-----------+-----+--------+---+---+--------+----------+\n",
      "only showing top 10 rows\n",
      "\n"
     ]
    }
   ],
   "source": [
    "immig_df.show(n=10)"
   ]
  },
  {
   "cell_type": "code",
   "execution_count": 81,
   "metadata": {
    "editable": true
   },
   "outputs": [],
   "source": [
    "gaports_spark = spark.createDataFrame(gaports) "
   ]
  },
  {
   "cell_type": "code",
   "execution_count": 82,
   "metadata": {
    "editable": true
   },
   "outputs": [
    {
     "name": "stdout",
     "output_type": "stream",
     "text": [
      "+--------------------+--------------+--------------------+----------+\n",
      "|                name|          type|        municipality|local_code|\n",
      "+--------------------+--------------+--------------------+----------+\n",
      "|Southwest Georgia...|medium_airport|              Albany|       ABY|\n",
      "|Augusta Regional ...| large_airport|             Augusta|       AGS|\n",
      "|Athens Ben Epps A...|medium_airport|              Athens|       AHN|\n",
      "|Hartsfield Jackso...| large_airport|             Atlanta|       ATL|\n",
      "|Brunswick Golden ...|medium_airport|           Brunswick|       BQK|\n",
      "|Columbus Metropol...|medium_airport|            Columbus|       CSG|\n",
      "|        Daniel Field|medium_airport|             Augusta|       DNL|\n",
      "|Fulton County Air...|medium_airport|             Atlanta|       FTY|\n",
      "|Lawson Army Air F...|medium_airport|Fort Benning(Colu...|       LSF|\n",
      "|Middle Georgia Re...|medium_airport|               Macon|       MCN|\n",
      "+--------------------+--------------+--------------------+----------+\n",
      "only showing top 10 rows\n",
      "\n"
     ]
    }
   ],
   "source": [
    "gaports_spark.show(n=10)"
   ]
  },
  {
   "cell_type": "code",
   "execution_count": 83,
   "metadata": {
    "editable": true
   },
   "outputs": [],
   "source": [
    "# Joining immigration data with airports data\n",
    "fact_df = immig_df.join( gaports_spark, immig_df.i94port == gaports_spark.local_code, how = 'inner' )\\\n",
    "                            .select( col(\"cicid\").alias(\"CICID\"), col(\"i94yr\").alias(\"Year\"),\\\n",
    "                                    col(\"i94mon\").alias(\"Month\"), col(\"day\").alias(\"Day\"),\\\n",
    "                                    col(\"month_year\").alias(\"Monthly_Time\"),\\\n",
    "                                    col(\"visatype\").alias(\"Visa_Type\"), col(\"gender\").alias(\"Gender\"),\\\n",
    "                                    col(\"age\").alias(\"Age\"), col(\"agegroup\").alias(\"Age_Group\"),\\\n",
    "                                    col(\"local_code\").alias(\"Airport_Code\"), col(\"municipality\").alias(\"Airport_Municipality\"),\\\n",
    "                                    col(\"admnum\").alias(\"Adm_Number\"), col(\"airline\").alias(\"Airline_Code\"),\\\n",
    "                                    col(\"fltno\").alias(\"Flight_Number\") )"
   ]
  },
  {
   "cell_type": "code",
   "execution_count": 84,
   "metadata": {
    "editable": true
   },
   "outputs": [
    {
     "name": "stdout",
     "output_type": "stream",
     "text": [
      "+-------+----+-----+---+------------+---------+------+---+---------+------------+--------------------+-----------+------------+-------------+\n",
      "|  CICID|Year|Month|Day|Monthly_Time|Visa_Type|Gender|Age|Age_Group|Airport_Code|Airport_Municipality| Adm_Number|Airline_Code|Flight_Number|\n",
      "+-------+----+-----+---+------------+---------+------+---+---------+------------+--------------------+-----------+------------+-------------+\n",
      "| 180973|2016|    1|  1|      1_2016|       E2|     M| 49|        4|         ATL|             Atlanta|84156749530|          LH|        00444|\n",
      "| 190508|2016|    1|  1|      1_2016|       E2|     M| 62|        5|         ATL|             Atlanta|84101047330|          DL|        00146|\n",
      "| 736433|2016|    1|  4|      1_2016|       E2|     M| 31|        2|         ATL|             Atlanta|84437768330|          VS|        00109|\n",
      "| 930673|2016|    1|  5|      1_2016|       E2|     M| 57|        4|         ATL|             Atlanta|84561130630|          DL|        00356|\n",
      "|1117816|2016|    1|  6|      1_2016|       E2|     M| 58|        4|         ATL|             Atlanta|84659434930|          KL|        00621|\n",
      "|2144971|2016|    1| 11|      1_2016|       E2|     M| 26|        2|         ATL|             Atlanta|85150780030|          DL|        00296|\n",
      "|2317313|2016|    1| 12|      1_2016|       E2|     F| 56|        4|         ATL|             Atlanta|85228115630|          DL|        00117|\n",
      "|3333491|2016|    1| 18|      1_2016|       E2|     M| 51|        4|         ATL|             Atlanta|85804591730|          DL|        00117|\n",
      "|5719159|2016|    1| 30|      1_2016|       E2|     F| 52|        4|         ATL|             Atlanta|86889375030|          DL|        00315|\n",
      "| 354303|2016|    1|  2|      1_2016|       E1|     M| 50|        4|         ATL|             Atlanta|84259472030|          DL|        00793|\n",
      "+-------+----+-----+---+------------+---------+------+---+---------+------------+--------------------+-----------+------------+-------------+\n",
      "only showing top 10 rows\n",
      "\n"
     ]
    }
   ],
   "source": [
    "fact_df.show(n=10)"
   ]
  },
  {
   "cell_type": "code",
   "execution_count": 85,
   "metadata": {
    "editable": true
   },
   "outputs": [],
   "source": [
    "airlines_spark = spark.createDataFrame(airlines_df) "
   ]
  },
  {
   "cell_type": "code",
   "execution_count": 86,
   "metadata": {
    "editable": true
   },
   "outputs": [],
   "source": [
    "# Joining immigration data with airlines data\n",
    "fact_df = fact_df.join(airlines_spark,fact_df.Airline_Code == airlines_spark.Airline_IATA, how='left')"
   ]
  },
  {
   "cell_type": "code",
   "execution_count": 87,
   "metadata": {
    "editable": true
   },
   "outputs": [],
   "source": [
    "fact_df = fact_df.drop(\"Airline_IATA\")\n",
    "fact_df = fact_df.drop(\"Airline_Name\")\n",
    "fact_df = fact_df.drop(\"Airline_Country\")"
   ]
  },
  {
   "cell_type": "code",
   "execution_count": 88,
   "metadata": {
    "editable": true
   },
   "outputs": [
    {
     "name": "stdout",
     "output_type": "stream",
     "text": [
      "root\n",
      " |-- CICID: integer (nullable = true)\n",
      " |-- Year: integer (nullable = true)\n",
      " |-- Month: integer (nullable = true)\n",
      " |-- Day: integer (nullable = true)\n",
      " |-- Monthly_Time: string (nullable = false)\n",
      " |-- Visa_Type: string (nullable = true)\n",
      " |-- Gender: string (nullable = false)\n",
      " |-- Age: integer (nullable = true)\n",
      " |-- Age_Group: integer (nullable = true)\n",
      " |-- Airport_Code: string (nullable = true)\n",
      " |-- Airport_Municipality: string (nullable = true)\n",
      " |-- Adm_Number: string (nullable = true)\n",
      " |-- Airline_Code: string (nullable = false)\n",
      " |-- Flight_Number: string (nullable = true)\n",
      "\n"
     ]
    }
   ],
   "source": [
    "fact_df.printSchema()"
   ]
  },
  {
   "cell_type": "code",
   "execution_count": 89,
   "metadata": {
    "editable": true
   },
   "outputs": [
    {
     "name": "stdout",
     "output_type": "stream",
     "text": [
      "+-------+----+-----+---+------------+---------+------+---+---------+------------+--------------------+-----------+------------+-------------+\n",
      "|  CICID|Year|Month|Day|Monthly_Time|Visa_Type|Gender|Age|Age_Group|Airport_Code|Airport_Municipality| Adm_Number|Airline_Code|Flight_Number|\n",
      "+-------+----+-----+---+------------+---------+------+---+---------+------------+--------------------+-----------+------------+-------------+\n",
      "|5002378|2016|    1| 27|      1_2016|       E2|     M| 50|        4|         ATL|             Atlanta|86590964230|          EV|        05009|\n",
      "|2675382|2016|    1| 14|      1_2016|       E2|     M| 34|        2|         ATL|             Atlanta|85429452230|          EV|        05002|\n",
      "| 936867|2016|    1|  5|      1_2016|       E1|     F| 40|        3|         ATL|             Atlanta|84517594430|          EV|        05498|\n",
      "|5311468|2016|    1| 29|      1_2016|       E2|     M| 38|        3|         ATL|             Atlanta|86770747330|          EV|        05009|\n",
      "| 549091|2016|    1|  3|      1_2016|       E2|     M|  3|        1|         ATL|             Atlanta|84290278530|          EV|        05481|\n",
      "|3012852|2016|    1| 16|      1_2016|       E2|     M| 58|        4|         ATL|             Atlanta|85586702830|          EV|        05498|\n",
      "|3012396|2016|    1| 16|      1_2016|       E2|     M| 37|        3|         ATL|             Atlanta|85339440130|          EV|        05498|\n",
      "|  30504|2016|    1| 23|      1_2016|       E2|     M| 60|        5|         ATL|             Atlanta|  294837785|          EV|         5009|\n",
      "|3749800|2016|    1| 20|      1_2016|       E2|     M| 51|        4|         ATL|             Atlanta|85956368830|          EV|        05498|\n",
      "|3935200|2016|    1| 21|      1_2016|       E2|     M| 56|        4|         ATL|             Atlanta|84242916130|          EV|        05498|\n",
      "+-------+----+-----+---+------------+---------+------+---+---------+------------+--------------------+-----------+------------+-------------+\n",
      "only showing top 10 rows\n",
      "\n"
     ]
    }
   ],
   "source": [
    "fact_df.show(n=10)"
   ]
  },
  {
   "cell_type": "code",
   "execution_count": 90,
   "metadata": {
    "editable": true
   },
   "outputs": [
    {
     "data": {
      "text/plain": [
       "(2341, 14)"
      ]
     },
     "execution_count": 90,
     "metadata": {},
     "output_type": "execute_result"
    }
   ],
   "source": [
    "(fact_df.count(), len(fact_df.columns))"
   ]
  },
  {
   "cell_type": "code",
   "execution_count": 91,
   "metadata": {
    "editable": true
   },
   "outputs": [
    {
     "name": "stdout",
     "output_type": "stream",
     "text": [
      "4.01 min\n"
     ]
    }
   ],
   "source": [
    "print( round((time.time() - timerx) / 60.0, 2) , 'min' )"
   ]
  },
  {
   "cell_type": "code",
   "execution_count": 92,
   "metadata": {
    "editable": true
   },
   "outputs": [],
   "source": [
    "# connecting to database and inserting data to tables\n",
    "conn = psycopg2.connect(\"host=127.0.0.1 dbname=immigdb user=student password=student\")\n",
    "cur = conn.cursor()"
   ]
  },
  {
   "cell_type": "code",
   "execution_count": 93,
   "metadata": {
    "editable": true
   },
   "outputs": [],
   "source": [
    "E1_desc = \"Employment First Preference (E1): Priority Worker and Persons of Extraordinary Ability\"\n",
    "E2_desc = \"Employment Second Preference (E2): Professionals Holding Advanced Degrees and Persons of Exceptional Ability\"\n",
    "E3_desc = \"Employment Third Preference (E3): Skilled Workers, Professionals, and Unskilled Workers (Other Workers)\"\n",
    "cur.execute(visatypes_table_insert,[\"E1\",E1_desc] )\n",
    "cur.execute(visatypes_table_insert,[\"E2\",E2_desc] )\n",
    "cur.execute(visatypes_table_insert,[\"E3\",E3_desc] )\n",
    "conn.commit()"
   ]
  },
  {
   "cell_type": "code",
   "execution_count": 94,
   "metadata": {
    "editable": true
   },
   "outputs": [],
   "source": [
    "cur.execute(genders_table_insert,[\"M\",\"Male\"] )\n",
    "cur.execute(genders_table_insert,[\"F\",\"Female\"] )\n",
    "cur.execute(genders_table_insert,[\"X\",\"X-Gender\"] )\n",
    "cur.execute(genders_table_insert,[\"U\",\"Unspecified\"] )\n",
    "conn.commit()"
   ]
  },
  {
   "cell_type": "code",
   "execution_count": 95,
   "metadata": {
    "editable": true
   },
   "outputs": [],
   "source": [
    "cur.execute(agegroups_table_insert,[1,\"up to 25\"] )\n",
    "cur.execute(agegroups_table_insert,[2,\"26-35\"] )\n",
    "cur.execute(agegroups_table_insert,[3,\"36-45\"] )\n",
    "cur.execute(agegroups_table_insert,[4,\"46-59\"] )\n",
    "cur.execute(agegroups_table_insert,[5,\"60 and above\"] )\n",
    "conn.commit()"
   ]
  },
  {
   "cell_type": "code",
   "execution_count": 96,
   "metadata": {
    "editable": true
   },
   "outputs": [],
   "source": [
    "gaports.rename(columns = {'name':'airport_name'}, inplace = True)"
   ]
  },
  {
   "cell_type": "code",
   "execution_count": 97,
   "metadata": {
    "editable": true
   },
   "outputs": [],
   "source": [
    "for index, row in gaports.iterrows():\n",
    "    cur.execute(airports_table_insert,[row.local_code,row.type,row.airport_name,row.municipality] )\n",
    "    cur.execute(municipalities_table_insert,[row.municipality] )\n",
    "conn.commit()"
   ]
  },
  {
   "cell_type": "code",
   "execution_count": 98,
   "metadata": {
    "editable": true
   },
   "outputs": [],
   "source": [
    "for index, row in airlines_df.iterrows():\n",
    "    cur.execute(airlines_table_insert,[row.Airline_IATA,row.Airline_Name,row.Airline_Country] )\n",
    "conn.commit()"
   ]
  },
  {
   "cell_type": "code",
   "execution_count": 99,
   "metadata": {
    "editable": true
   },
   "outputs": [],
   "source": [
    "monthDict = {1:'Jan', 2:'Feb', 3:'Mar', 4:'Apr', 5:'May', 6:'Jun', \\\n",
    "            7:'Jul', 8:'Aug', 9:'Sep', 10:'Oct', 11:'Nov', 12:'Dec'}"
   ]
  },
  {
   "cell_type": "code",
   "execution_count": 100,
   "metadata": {
    "editable": true
   },
   "outputs": [],
   "source": [
    "cur.execute(years_table_insert,[cur_year] )\n",
    "cur.execute(months_table_insert,[cur_month, monthDict[cur_month] ] )\n",
    "cur.execute(monthlytimes_table_insert,[ str(cur_month)+'_'+str(cur_year) ,cur_year,cur_month] )\n",
    "conn.commit()"
   ]
  },
  {
   "cell_type": "code",
   "execution_count": 101,
   "metadata": {
    "editable": true
   },
   "outputs": [],
   "source": [
    "fact_dfpd = fact_df.toPandas() "
   ]
  },
  {
   "cell_type": "code",
   "execution_count": 102,
   "metadata": {
    "editable": true
   },
   "outputs": [
    {
     "data": {
      "text/html": [
       "<div>\n",
       "<style scoped>\n",
       "    .dataframe tbody tr th:only-of-type {\n",
       "        vertical-align: middle;\n",
       "    }\n",
       "\n",
       "    .dataframe tbody tr th {\n",
       "        vertical-align: top;\n",
       "    }\n",
       "\n",
       "    .dataframe thead th {\n",
       "        text-align: right;\n",
       "    }\n",
       "</style>\n",
       "<table border=\"1\" class=\"dataframe\">\n",
       "  <thead>\n",
       "    <tr style=\"text-align: right;\">\n",
       "      <th></th>\n",
       "      <th>CICID</th>\n",
       "      <th>Year</th>\n",
       "      <th>Month</th>\n",
       "      <th>Day</th>\n",
       "      <th>Monthly_Time</th>\n",
       "      <th>Visa_Type</th>\n",
       "      <th>Gender</th>\n",
       "      <th>Age</th>\n",
       "      <th>Age_Group</th>\n",
       "      <th>Airport_Code</th>\n",
       "      <th>Airport_Municipality</th>\n",
       "      <th>Adm_Number</th>\n",
       "      <th>Airline_Code</th>\n",
       "      <th>Flight_Number</th>\n",
       "    </tr>\n",
       "  </thead>\n",
       "  <tbody>\n",
       "    <tr>\n",
       "      <th>0</th>\n",
       "      <td>5002378</td>\n",
       "      <td>2016</td>\n",
       "      <td>1</td>\n",
       "      <td>27</td>\n",
       "      <td>1_2016</td>\n",
       "      <td>E2</td>\n",
       "      <td>M</td>\n",
       "      <td>50</td>\n",
       "      <td>4</td>\n",
       "      <td>ATL</td>\n",
       "      <td>Atlanta</td>\n",
       "      <td>86590964230</td>\n",
       "      <td>EV</td>\n",
       "      <td>05009</td>\n",
       "    </tr>\n",
       "    <tr>\n",
       "      <th>1</th>\n",
       "      <td>2675382</td>\n",
       "      <td>2016</td>\n",
       "      <td>1</td>\n",
       "      <td>14</td>\n",
       "      <td>1_2016</td>\n",
       "      <td>E2</td>\n",
       "      <td>M</td>\n",
       "      <td>34</td>\n",
       "      <td>2</td>\n",
       "      <td>ATL</td>\n",
       "      <td>Atlanta</td>\n",
       "      <td>85429452230</td>\n",
       "      <td>EV</td>\n",
       "      <td>05002</td>\n",
       "    </tr>\n",
       "    <tr>\n",
       "      <th>2</th>\n",
       "      <td>936867</td>\n",
       "      <td>2016</td>\n",
       "      <td>1</td>\n",
       "      <td>5</td>\n",
       "      <td>1_2016</td>\n",
       "      <td>E1</td>\n",
       "      <td>F</td>\n",
       "      <td>40</td>\n",
       "      <td>3</td>\n",
       "      <td>ATL</td>\n",
       "      <td>Atlanta</td>\n",
       "      <td>84517594430</td>\n",
       "      <td>EV</td>\n",
       "      <td>05498</td>\n",
       "    </tr>\n",
       "    <tr>\n",
       "      <th>3</th>\n",
       "      <td>5311468</td>\n",
       "      <td>2016</td>\n",
       "      <td>1</td>\n",
       "      <td>29</td>\n",
       "      <td>1_2016</td>\n",
       "      <td>E2</td>\n",
       "      <td>M</td>\n",
       "      <td>38</td>\n",
       "      <td>3</td>\n",
       "      <td>ATL</td>\n",
       "      <td>Atlanta</td>\n",
       "      <td>86770747330</td>\n",
       "      <td>EV</td>\n",
       "      <td>05009</td>\n",
       "    </tr>\n",
       "    <tr>\n",
       "      <th>4</th>\n",
       "      <td>549091</td>\n",
       "      <td>2016</td>\n",
       "      <td>1</td>\n",
       "      <td>3</td>\n",
       "      <td>1_2016</td>\n",
       "      <td>E2</td>\n",
       "      <td>M</td>\n",
       "      <td>3</td>\n",
       "      <td>1</td>\n",
       "      <td>ATL</td>\n",
       "      <td>Atlanta</td>\n",
       "      <td>84290278530</td>\n",
       "      <td>EV</td>\n",
       "      <td>05481</td>\n",
       "    </tr>\n",
       "  </tbody>\n",
       "</table>\n",
       "</div>"
      ],
      "text/plain": [
       "     CICID  Year  Month  Day Monthly_Time Visa_Type Gender  Age  Age_Group  \\\n",
       "0  5002378  2016      1   27       1_2016        E2      M   50          4   \n",
       "1  2675382  2016      1   14       1_2016        E2      M   34          2   \n",
       "2   936867  2016      1    5       1_2016        E1      F   40          3   \n",
       "3  5311468  2016      1   29       1_2016        E2      M   38          3   \n",
       "4   549091  2016      1    3       1_2016        E2      M    3          1   \n",
       "\n",
       "  Airport_Code Airport_Municipality   Adm_Number Airline_Code Flight_Number  \n",
       "0          ATL              Atlanta  86590964230           EV         05009  \n",
       "1          ATL              Atlanta  85429452230           EV         05002  \n",
       "2          ATL              Atlanta  84517594430           EV         05498  \n",
       "3          ATL              Atlanta  86770747330           EV         05009  \n",
       "4          ATL              Atlanta  84290278530           EV         05481  "
      ]
     },
     "execution_count": 102,
     "metadata": {},
     "output_type": "execute_result"
    }
   ],
   "source": [
    "fact_dfpd.head(5)"
   ]
  },
  {
   "cell_type": "code",
   "execution_count": 103,
   "metadata": {
    "editable": true
   },
   "outputs": [],
   "source": [
    "# quality check for full Null columns\n",
    "for col in list(fact_dfpd.columns):\n",
    "    if not fact_dfpd[col].notnull().any():\n",
    "        print('All Null rows in ',col)\n",
    "        allnull_row_check = False\n",
    "        break"
   ]
  },
  {
   "cell_type": "code",
   "execution_count": 104,
   "metadata": {
    "editable": true
   },
   "outputs": [],
   "source": [
    "if allnull_row_check:\n",
    "    for index, row in fact_dfpd.iterrows():\n",
    "        vals = [row.CICID,row.Year,row.Month,row.Day,row.Monthly_Time,row.Visa_Type,row.Gender,\\\n",
    "               row.Age,row.Age_Group,row.Airport_Code,row.Airport_Municipality,row.Adm_Number,\\\n",
    "               row.Airline_Code,row.Flight_Number]\n",
    "        cur.execute(immigrationfacts_table_insert,vals)"
   ]
  },
  {
   "cell_type": "code",
   "execution_count": 105,
   "metadata": {
    "editable": true
   },
   "outputs": [],
   "source": [
    "conn.commit()\n",
    "conn.close()"
   ]
  },
  {
   "cell_type": "markdown",
   "metadata": {
    "editable": true
   },
   "source": [
    "#### 4.2 Data Quality Checks\n",
    "Explain the data quality checks you'll perform to ensure the pipeline ran as expected. These could include:\n",
    " * Integrity constraints on the relational database (e.g., unique key, data type, etc.)\n",
    " * Unit tests for the scripts to ensure they are doing the right thing\n",
    " * Source/Count checks to ensure completeness\n",
    " \n",
    "Run Quality Checks"
   ]
  },
  {
   "cell_type": "code",
   "execution_count": 106,
   "metadata": {
    "editable": true
   },
   "outputs": [],
   "source": [
    "# Perform quality checks here\n",
    "conn = psycopg2.connect(\"host=127.0.0.1 dbname=immigdb user=student password=student\")\n",
    "cur = conn.cursor()"
   ]
  },
  {
   "cell_type": "code",
   "execution_count": 107,
   "metadata": {
    "editable": true
   },
   "outputs": [
    {
     "name": "stdout",
     "output_type": "stream",
     "text": [
      "visatypes  table found, having 3  rows\n",
      "genders  table found, having 4  rows\n",
      "agegroups  table found, having 5  rows\n",
      "airports  table found, having 20  rows\n",
      "municipalities  table found, having 13  rows\n",
      "years  table found, having 1  rows\n",
      "months  table found, having 1  rows\n",
      "monthlytimes  table found, having 1  rows\n",
      "airlines  table found, having 941  rows\n"
     ]
    }
   ],
   "source": [
    "# checking that all dimension tables have been created and populated\n",
    "dim_tables = ['visatypes','genders','agegroups','airports','municipalities',\\\n",
    "              'years','months','monthlytimes','airlines']\n",
    "for dim_tbl in dim_tables:\n",
    "    try:\n",
    "        cur.execute(\"SELECT COUNT(*) FROM \"+dim_tbl,[])\n",
    "        res = cur.fetchone()[0]\n",
    "        if res==0:\n",
    "            raise ValueError(\"Data quality check failed. No rows in \"+dim_tbl)\n",
    "        print(dim_tbl,' table found, having',res,' rows')   \n",
    "    except:\n",
    "        raise IOError( dim_tbl+\" table not found\")"
   ]
  },
  {
   "cell_type": "code",
   "execution_count": 108,
   "metadata": {
    "editable": true
   },
   "outputs": [
    {
     "name": "stdout",
     "output_type": "stream",
     "text": [
      "Passed check for loading csv data as PySpark DataFrame\n"
     ]
    }
   ],
   "source": [
    "#implemented during ETL above\n",
    "# checking if data loaded was not empty\n",
    "assert empty_check, \"Failed check for loading csv data as PySpark DataFrame\"\n",
    "print('Passed check for loading csv data as PySpark DataFrame')"
   ]
  },
  {
   "cell_type": "code",
   "execution_count": 109,
   "metadata": {
    "editable": true
   },
   "outputs": [
    {
     "name": "stdout",
     "output_type": "stream",
     "text": [
      "Passed check for time period in loaded data\n"
     ]
    }
   ],
   "source": [
    "#implemented during ETL above\n",
    "# checking if data being added is of correct time period\n",
    "assert date_check, 'Failed check for time period in loaded data'\n",
    "print('Passed check for time period in loaded data')"
   ]
  },
  {
   "cell_type": "code",
   "execution_count": 110,
   "metadata": {
    "editable": true
   },
   "outputs": [
    {
     "name": "stdout",
     "output_type": "stream",
     "text": [
      "Passed check for no fully Null column in new portion of fact table\n"
     ]
    }
   ],
   "source": [
    "#implemented during ETL above\n",
    "#Full Columns are Null if data for column is not loaded correctly in Spark DataFrame due to mismatch with schema types\n",
    "assert allnull_row_check, 'Failed check for no fully Null column in new portion of fact table'\n",
    "print('Passed check for no fully Null column in new portion of fact table')"
   ]
  },
  {
   "cell_type": "code",
   "execution_count": 111,
   "metadata": {
    "editable": true
   },
   "outputs": [
    {
     "name": "stdout",
     "output_type": "stream",
     "text": [
      "immigrationfacts table found\n",
      "Row Count Before:  0\n",
      "Row Count After:  2200\n",
      "New Rows Added:  2200\n",
      "Passed check for new records added in fact table\n"
     ]
    }
   ],
   "source": [
    "# implementing quality check for new records being added in face table, after checking that table exists\n",
    "try:\n",
    "    cur.execute(\"SELECT COUNT(*) FROM immigrationfacts\",[])\n",
    "    print('immigrationfacts table found')\n",
    "except:\n",
    "    raise IOError(\"immigrationfacts table not found\")\n",
    "new_rows_fact_table = cur.fetchone()[0]\n",
    "print('Row Count Before: ',init_rows_fact_table)\n",
    "print('Row Count After: ',new_rows_fact_table)\n",
    "print('New Rows Added: ',new_rows_fact_table-init_rows_fact_table)\n",
    "assert new_rows_fact_table > init_rows_fact_table, 'Failed check for new records added in fact table'\n",
    "print('Passed check for new records added in fact table')"
   ]
  },
  {
   "cell_type": "code",
   "execution_count": 112,
   "metadata": {
    "editable": true
   },
   "outputs": [
    {
     "name": "stdout",
     "output_type": "stream",
     "text": [
      "14 columns in immigrationfacts table\n",
      "Passed check for number of columns in immigrationfacts\n"
     ]
    }
   ],
   "source": [
    "cur.execute(\"SELECT * FROM immigrationfacts LIMIT 1\",[])\n",
    "no_cols = len(cur.fetchone())\n",
    "print(no_cols,'columns in immigrationfacts table')\n",
    "assert no_cols==14, 'Failed check for number of columns in immigrationfacts'\n",
    "print('Passed check for number of columns in immigrationfacts')"
   ]
  },
  {
   "cell_type": "code",
   "execution_count": 113,
   "metadata": {
    "editable": true
   },
   "outputs": [],
   "source": [
    "conn.close()"
   ]
  },
  {
   "cell_type": "markdown",
   "metadata": {
    "editable": true
   },
   "source": [
    "check etl.py for more quality checks in automated pipeline"
   ]
  },
  {
   "cell_type": "markdown",
   "metadata": {
    "editable": true
   },
   "source": [
    "#### 4.3 Data dictionary \n",
    "Create a data dictionary for your data model. For each field, provide a brief description of what the data is and where it came from. You can include the data dictionary in the notebook or in a separate file."
   ]
  },
  {
   "cell_type": "markdown",
   "metadata": {
    "editable": true
   },
   "source": [
    "#### Dimension Tables\n",
    "\n",
    "#### airports\n",
    "source : from create_tables_csv\n",
    "\n",
    "airport_code - varchar : Code for Airport\n",
    "\n",
    "airport_type - varchar : Whether airport is small, medium or large \n",
    "\n",
    "name - varchar :  Full name of Airport\n",
    "\n",
    "municipality - varchar : City or administrative unit\n",
    "\n",
    "#### visatypes\n",
    "source : self created\n",
    "\n",
    "visa_code - varchar : Visa Type code\n",
    "\n",
    "description - varchar : 1-2 lines Description of visa type\n",
    "\n",
    "#### agegroups\n",
    "source : self created\n",
    "\n",
    "agegroup_num - int : Age Group Number\n",
    "\n",
    "description - varchar : Description of range for Age Group \n",
    "\n",
    "#### genders\n",
    "source : self created\n",
    "\n",
    "gender_code - varchar : Code for gender\n",
    "\n",
    "description - varchar : Description of gender code\n",
    "\n",
    "#### municipalities\n",
    "source : from create_tables_csv\n",
    "\n",
    "municipality - varchar : City or administrative unit\n",
    "\n",
    "#### years\n",
    "source : self created\n",
    "\n",
    "year - int : Year\n",
    "\n",
    "#### months\n",
    "source : self created\n",
    "\n",
    "month_num - int : Month Number\n",
    "\n",
    "month_name - varchar : Name of month\n",
    "\n",
    "#### monthlytimes\n",
    "source : self created\n",
    "\n",
    "monthlytime - varchar : String representation of month and year\n",
    "\n",
    "year - int : Year\n",
    "\n",
    "month_num - int : Month Number\n",
    "\n",
    "#### airlines\n",
    "source : from airlines.json\n",
    "\n",
    "airline_code - varchar : IATA Code for Airline\n",
    "\n",
    "airline_name - varchar : Full Name of Airline\n",
    "\n",
    "airline_country - varchar : Country of Airline\n",
    "\n",
    "#### Fact Table\n",
    "\n",
    "#### immigrationfacts\n",
    "source : from immigration_data csvs created from SAS files\n",
    "\n",
    "CICID - varchar : ID for the immigration\n",
    "\n",
    "Year - int : Year\n",
    "\n",
    "Month - int : Month Number\n",
    "\n",
    "Day - int : Day of Month\n",
    "\n",
    "Monthly_Time - varchar : String representation of month and year\n",
    "\n",
    "Visa_Type - varchar : Visa Type code\n",
    "\n",
    "Gender - varchar : Code for gender\n",
    "\n",
    "Age - int : Age in years\n",
    "\n",
    "Age_Group - int : Age Group Number\n",
    "\n",
    "Airport_Code - varchar : Code for Airport\n",
    "\n",
    "Airport_Municipality - varchar : City or administrative unit of Airport\n",
    "\n",
    "Adm_Number - varchar : Admission Number Code\n",
    "\n",
    "Airline_Code - varchar : IATA Code for Airline\n",
    "\n",
    "Flight_Number - varchar : Flight Number Code"
   ]
  },
  {
   "cell_type": "markdown",
   "metadata": {
    "editable": true
   },
   "source": [
    "#### Step 5: Complete Project Write Up\n",
    "* Clearly state the rationale for the choice of tools and technologies for the project.\n",
    "* Propose how often the data should be updated and why.\n",
    "* Write a description of how you would approach the problem differently under the following scenarios:\n",
    " * The data was increased by 100x.\n",
    " * The data populates a dashboard that must be updated on a daily basis by 7am every day.\n",
    " * The database needed to be accessed by 100+ people."
   ]
  },
  {
   "cell_type": "markdown",
   "metadata": {
    "editable": true
   },
   "source": [
    "#### Choice of Tools\n",
    "\n",
    "Relational Database was chosen due to flexibility and ease of use, ease of Joins and aggregations needed for the project, smaller data volume, low availability requirements and well-defined tabular schema.\n",
    "\n",
    "PosgreSQL was chosen as the database system because it is free, open-source, fast, popular and easy to work with. Psycopg2 Python driver was used for accessing the database, due to ease and flexibility of use and concurrency support.\n",
    "\n",
    "The business requirements of the project indicates following: ETL has to be done at a low rate of monthly for small time, there will be small number of users doing infrequent use and most processing will be on a relatively small data size. \n",
    "\n",
    "Therefore, specialized distributed cloud based solutions like Amazon Redshift were not used for staging in Data Warehouse.\n",
    "\n",
    "There are several small datasets used in the project. Pandas was chosen for easily doing data analysis, data wrangling and data cleaning on them.\n",
    "\n",
    "The larger immigration data has to be loaded from files with only one month of data, which is not too big and it is further filtered and size is reduced significantly before the heavier operations. The ETL for immigration data can be done easily on Pandas too. However PySpark was chosen to process that data for reasons including: 1- future scalability of code and system in case of change in requirements that will reduce the filtering or make ETL frequent. 2- Application of PySpark learning done in the Nanodegree on this project. PySpark is currently running in local mode which doesn't provide distributed computing of Spark, but it can be setup on a cluster for that in future if needed. Amazon EMR can be used easy cluster setup and speed.\n",
    "\n",
    "The pipeline is only run monthly, so etl.py script can be run monthly, which includes quality checks and ETL task is run only if ingestion task succeeds. However automation of pipeline is also being provided through Apache AirFlow. It is being used because it allows task scheduling programtically, provides easy monitoring of tasks and pipelines via UI, and is application of AirFlow learning in Nanodegree, which can be utilized for more complex pipeline and hooks. Cron job can also be used for scheduling etl.py to run monthly due to simplicity of current requirements, modularity and quality checks.  \n",
    "\n",
    "The sytem is supposed on be deployed on a Cloud VM. APIs and dashboards can be developed for access and analytics."
   ]
  },
  {
   "cell_type": "markdown",
   "metadata": {
    "editable": true
   },
   "source": [
    "#### Data Update\n",
    "\n",
    "The business requirement is for analytics on monhtly data, so the data in fact table and time table is updated periodically only once per month, when data to ingest is available.\n",
    "\n",
    "The dimension tables data except time can be assumed to be constant. However data for new airlines maybe updated in the table yearly, because only few and smaller ones are added each year. "
   ]
  },
  {
   "cell_type": "markdown",
   "metadata": {
    "editable": true
   },
   "source": [
    "#### If the data was increased by 100x\n",
    "\n",
    "If the data is increased by 100X then PySpark being used can be setup on cluster using Amazon EMR. Increasing the specs on cloud VM can also help for smaller increase."
   ]
  },
  {
   "cell_type": "markdown",
   "metadata": {
    "editable": true
   },
   "source": [
    "#### If the data populates a dashboard that must be updated on a daily basis by 7am every day\n",
    "\n",
    "The data is not updated daily in this case. However if it is needed then it can be easily supported by changing the \"schedule_interval\" value in the dags/airflow_pipeline.py code for Apache Airflow to schedule it for daily run."
   ]
  },
  {
   "cell_type": "markdown",
   "metadata": {
    "editable": true
   },
   "source": [
    "#### If The database needed to be accessed by 100+ people.\n",
    "\n",
    "The data warehouse can be migrated Amazon Redshift, where multiple queries can run quickly in parallel, while internally using modified PostgreSQL. Other options could be PosgreSQL Server as a Service or Amazon RDS for PosgreSQL."
   ]
  },
  {
   "cell_type": "code",
   "execution_count": null,
   "metadata": {
    "editable": true
   },
   "outputs": [],
   "source": []
  }
 ],
 "metadata": {
  "kernelspec": {
   "display_name": "Python 3",
   "language": "python",
   "name": "python3"
  },
  "language_info": {
   "codemirror_mode": {
    "name": "ipython",
    "version": 3
   },
   "file_extension": ".py",
   "mimetype": "text/x-python",
   "name": "python",
   "nbconvert_exporter": "python",
   "pygments_lexer": "ipython3",
   "version": "3.6.3"
  }
 },
 "nbformat": 4,
 "nbformat_minor": 4
}
